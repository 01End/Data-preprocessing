{
 "cells": [
  {
   "cell_type": "markdown",
   "id": "d18527f4",
   "metadata": {},
   "source": [
    "## Import Libraries and Load Data"
   ]
  },
  {
   "cell_type": "code",
   "execution_count": 2,
   "id": "b28c13bb",
   "metadata": {},
   "outputs": [],
   "source": [
    "import pandas as pd \n",
    "import numpy as np \n",
    "import matplotlib.pyplot as plt\n",
    "import seaborn as sns\n",
    "from plotly.subplots import make_subplots\n",
    "import plotly.graph_objects as go\n",
    "from sklearn.preprocessing import OrdinalEncoder\n",
    "from sklearn.preprocessing import OneHotEncoder\n",
    "from sklearn.preprocessing import LabelEncoder\n",
    "from imblearn.over_sampling import SMOTE  \n",
    "from sklearn.model_selection import train_test_split\n",
    "from sklearn.preprocessing import MinMaxScaler\n",
    "data = pd.read_csv('credit_customers.csv')"
   ]
  },
  {
   "cell_type": "markdown",
   "id": "fe69e0df",
   "metadata": {},
   "source": [
    "##  Exploratory Data Analysis (EDA)\n",
    "- Displayed the number of rows, columns, and data types.\n",
    "- Show descriptive statistics (mean, min, max, std) for numerical features.\n",
    "- **Visualization:**\n",
    "  - Created a histogram of age to understand the age distribution of applicants.\n",
    "  - Created a bar chart of purpose to show the most common loan purposes."
   ]
  },
  {
   "cell_type": "code",
   "execution_count": 3,
   "id": "cf9f916d",
   "metadata": {},
   "outputs": [
    {
     "data": {
      "text/html": [
       "<div>\n",
       "<style scoped>\n",
       "    .dataframe tbody tr th:only-of-type {\n",
       "        vertical-align: middle;\n",
       "    }\n",
       "\n",
       "    .dataframe tbody tr th {\n",
       "        vertical-align: top;\n",
       "    }\n",
       "\n",
       "    .dataframe thead th {\n",
       "        text-align: right;\n",
       "    }\n",
       "</style>\n",
       "<table border=\"1\" class=\"dataframe\">\n",
       "  <thead>\n",
       "    <tr style=\"text-align: right;\">\n",
       "      <th></th>\n",
       "      <th>checking_status</th>\n",
       "      <th>duration</th>\n",
       "      <th>credit_history</th>\n",
       "      <th>purpose</th>\n",
       "      <th>credit_amount</th>\n",
       "      <th>savings_status</th>\n",
       "      <th>employment</th>\n",
       "      <th>installment_commitment</th>\n",
       "      <th>personal_status</th>\n",
       "      <th>other_parties</th>\n",
       "      <th>...</th>\n",
       "      <th>property_magnitude</th>\n",
       "      <th>age</th>\n",
       "      <th>other_payment_plans</th>\n",
       "      <th>housing</th>\n",
       "      <th>existing_credits</th>\n",
       "      <th>job</th>\n",
       "      <th>num_dependents</th>\n",
       "      <th>own_telephone</th>\n",
       "      <th>foreign_worker</th>\n",
       "      <th>class</th>\n",
       "    </tr>\n",
       "  </thead>\n",
       "  <tbody>\n",
       "    <tr>\n",
       "      <th>0</th>\n",
       "      <td>&lt;0</td>\n",
       "      <td>6</td>\n",
       "      <td>critical/other existing credit</td>\n",
       "      <td>radio/tv</td>\n",
       "      <td>1169</td>\n",
       "      <td>no known savings</td>\n",
       "      <td>&gt;=7</td>\n",
       "      <td>4</td>\n",
       "      <td>male single</td>\n",
       "      <td>none</td>\n",
       "      <td>...</td>\n",
       "      <td>real estate</td>\n",
       "      <td>67</td>\n",
       "      <td>none</td>\n",
       "      <td>own</td>\n",
       "      <td>2</td>\n",
       "      <td>skilled</td>\n",
       "      <td>1</td>\n",
       "      <td>yes</td>\n",
       "      <td>yes</td>\n",
       "      <td>good</td>\n",
       "    </tr>\n",
       "    <tr>\n",
       "      <th>1</th>\n",
       "      <td>0&lt;=X&lt;200</td>\n",
       "      <td>48</td>\n",
       "      <td>existing paid</td>\n",
       "      <td>radio/tv</td>\n",
       "      <td>5951</td>\n",
       "      <td>&lt;100</td>\n",
       "      <td>1&lt;=X&lt;4</td>\n",
       "      <td>2</td>\n",
       "      <td>female div/dep/mar</td>\n",
       "      <td>none</td>\n",
       "      <td>...</td>\n",
       "      <td>real estate</td>\n",
       "      <td>22</td>\n",
       "      <td>none</td>\n",
       "      <td>own</td>\n",
       "      <td>1</td>\n",
       "      <td>skilled</td>\n",
       "      <td>1</td>\n",
       "      <td>none</td>\n",
       "      <td>yes</td>\n",
       "      <td>bad</td>\n",
       "    </tr>\n",
       "    <tr>\n",
       "      <th>2</th>\n",
       "      <td>no checking</td>\n",
       "      <td>12</td>\n",
       "      <td>critical/other existing credit</td>\n",
       "      <td>education</td>\n",
       "      <td>2096</td>\n",
       "      <td>&lt;100</td>\n",
       "      <td>4&lt;=X&lt;7</td>\n",
       "      <td>2</td>\n",
       "      <td>male single</td>\n",
       "      <td>none</td>\n",
       "      <td>...</td>\n",
       "      <td>real estate</td>\n",
       "      <td>49</td>\n",
       "      <td>none</td>\n",
       "      <td>own</td>\n",
       "      <td>1</td>\n",
       "      <td>unskilled resident</td>\n",
       "      <td>2</td>\n",
       "      <td>none</td>\n",
       "      <td>yes</td>\n",
       "      <td>good</td>\n",
       "    </tr>\n",
       "    <tr>\n",
       "      <th>3</th>\n",
       "      <td>&lt;0</td>\n",
       "      <td>42</td>\n",
       "      <td>existing paid</td>\n",
       "      <td>furniture/equipment</td>\n",
       "      <td>7882</td>\n",
       "      <td>&lt;100</td>\n",
       "      <td>4&lt;=X&lt;7</td>\n",
       "      <td>2</td>\n",
       "      <td>male single</td>\n",
       "      <td>guarantor</td>\n",
       "      <td>...</td>\n",
       "      <td>life insurance</td>\n",
       "      <td>45</td>\n",
       "      <td>none</td>\n",
       "      <td>for free</td>\n",
       "      <td>1</td>\n",
       "      <td>skilled</td>\n",
       "      <td>2</td>\n",
       "      <td>none</td>\n",
       "      <td>yes</td>\n",
       "      <td>good</td>\n",
       "    </tr>\n",
       "    <tr>\n",
       "      <th>4</th>\n",
       "      <td>&lt;0</td>\n",
       "      <td>24</td>\n",
       "      <td>delayed previously</td>\n",
       "      <td>new car</td>\n",
       "      <td>4870</td>\n",
       "      <td>&lt;100</td>\n",
       "      <td>1&lt;=X&lt;4</td>\n",
       "      <td>3</td>\n",
       "      <td>male single</td>\n",
       "      <td>none</td>\n",
       "      <td>...</td>\n",
       "      <td>no known property</td>\n",
       "      <td>53</td>\n",
       "      <td>none</td>\n",
       "      <td>for free</td>\n",
       "      <td>2</td>\n",
       "      <td>skilled</td>\n",
       "      <td>2</td>\n",
       "      <td>none</td>\n",
       "      <td>yes</td>\n",
       "      <td>bad</td>\n",
       "    </tr>\n",
       "  </tbody>\n",
       "</table>\n",
       "<p>5 rows × 21 columns</p>\n",
       "</div>"
      ],
      "text/plain": [
       "  checking_status  duration                  credit_history  \\\n",
       "0              <0         6  critical/other existing credit   \n",
       "1        0<=X<200        48                   existing paid   \n",
       "2     no checking        12  critical/other existing credit   \n",
       "3              <0        42                   existing paid   \n",
       "4              <0        24              delayed previously   \n",
       "\n",
       "               purpose  credit_amount    savings_status employment  \\\n",
       "0             radio/tv           1169  no known savings        >=7   \n",
       "1             radio/tv           5951              <100     1<=X<4   \n",
       "2            education           2096              <100     4<=X<7   \n",
       "3  furniture/equipment           7882              <100     4<=X<7   \n",
       "4              new car           4870              <100     1<=X<4   \n",
       "\n",
       "   installment_commitment     personal_status other_parties  ...  \\\n",
       "0                       4         male single          none  ...   \n",
       "1                       2  female div/dep/mar          none  ...   \n",
       "2                       2         male single          none  ...   \n",
       "3                       2         male single     guarantor  ...   \n",
       "4                       3         male single          none  ...   \n",
       "\n",
       "   property_magnitude age  other_payment_plans   housing existing_credits  \\\n",
       "0         real estate  67                 none       own                2   \n",
       "1         real estate  22                 none       own                1   \n",
       "2         real estate  49                 none       own                1   \n",
       "3      life insurance  45                 none  for free                1   \n",
       "4   no known property  53                 none  for free                2   \n",
       "\n",
       "                  job num_dependents  own_telephone foreign_worker class  \n",
       "0             skilled              1            yes            yes  good  \n",
       "1             skilled              1           none            yes   bad  \n",
       "2  unskilled resident              2           none            yes  good  \n",
       "3             skilled              2           none            yes  good  \n",
       "4             skilled              2           none            yes   bad  \n",
       "\n",
       "[5 rows x 21 columns]"
      ]
     },
     "execution_count": 3,
     "metadata": {},
     "output_type": "execute_result"
    }
   ],
   "source": [
    "data.head()"
   ]
  },
  {
   "cell_type": "code",
   "execution_count": 4,
   "id": "70e8265f",
   "metadata": {},
   "outputs": [
    {
     "name": "stdout",
     "output_type": "stream",
     "text": [
      "<class 'pandas.core.frame.DataFrame'>\n",
      "RangeIndex: 1000 entries, 0 to 999\n",
      "Data columns (total 21 columns):\n",
      " #   Column                  Non-Null Count  Dtype \n",
      "---  ------                  --------------  ----- \n",
      " 0   checking_status         909 non-null    object\n",
      " 1   duration                1000 non-null   int64 \n",
      " 2   credit_history          961 non-null    object\n",
      " 3   purpose                 957 non-null    object\n",
      " 4   credit_amount           1000 non-null   int64 \n",
      " 5   savings_status          987 non-null    object\n",
      " 6   employment              987 non-null    object\n",
      " 7   installment_commitment  1000 non-null   int64 \n",
      " 8   personal_status         1000 non-null   object\n",
      " 9   other_parties           1000 non-null   object\n",
      " 10  residence_since         1000 non-null   int64 \n",
      " 11  property_magnitude      942 non-null    object\n",
      " 12  age                     1000 non-null   int64 \n",
      " 13  other_payment_plans     1000 non-null   object\n",
      " 14  housing                 931 non-null    object\n",
      " 15  existing_credits        1000 non-null   int64 \n",
      " 16  job                     1000 non-null   object\n",
      " 17  num_dependents          1000 non-null   int64 \n",
      " 18  own_telephone           1000 non-null   object\n",
      " 19  foreign_worker          1000 non-null   object\n",
      " 20  class                   1000 non-null   object\n",
      "dtypes: int64(7), object(14)\n",
      "memory usage: 164.2+ KB\n"
     ]
    }
   ],
   "source": [
    "data.info()"
   ]
  },
  {
   "cell_type": "code",
   "execution_count": 5,
   "id": "8907acda",
   "metadata": {},
   "outputs": [
    {
     "data": {
      "text/html": [
       "<div>\n",
       "<style scoped>\n",
       "    .dataframe tbody tr th:only-of-type {\n",
       "        vertical-align: middle;\n",
       "    }\n",
       "\n",
       "    .dataframe tbody tr th {\n",
       "        vertical-align: top;\n",
       "    }\n",
       "\n",
       "    .dataframe thead th {\n",
       "        text-align: right;\n",
       "    }\n",
       "</style>\n",
       "<table border=\"1\" class=\"dataframe\">\n",
       "  <thead>\n",
       "    <tr style=\"text-align: right;\">\n",
       "      <th></th>\n",
       "      <th>duration</th>\n",
       "      <th>credit_amount</th>\n",
       "      <th>installment_commitment</th>\n",
       "      <th>residence_since</th>\n",
       "      <th>age</th>\n",
       "      <th>existing_credits</th>\n",
       "      <th>num_dependents</th>\n",
       "    </tr>\n",
       "  </thead>\n",
       "  <tbody>\n",
       "    <tr>\n",
       "      <th>count</th>\n",
       "      <td>1000.000000</td>\n",
       "      <td>1000.000000</td>\n",
       "      <td>1000.000000</td>\n",
       "      <td>1000.000000</td>\n",
       "      <td>1000.000000</td>\n",
       "      <td>1000.000000</td>\n",
       "      <td>1000.000000</td>\n",
       "    </tr>\n",
       "    <tr>\n",
       "      <th>mean</th>\n",
       "      <td>20.903000</td>\n",
       "      <td>3271.258000</td>\n",
       "      <td>2.973000</td>\n",
       "      <td>2.845000</td>\n",
       "      <td>35.546000</td>\n",
       "      <td>1.407000</td>\n",
       "      <td>1.155000</td>\n",
       "    </tr>\n",
       "    <tr>\n",
       "      <th>std</th>\n",
       "      <td>12.058814</td>\n",
       "      <td>2822.736876</td>\n",
       "      <td>1.118715</td>\n",
       "      <td>1.103718</td>\n",
       "      <td>11.375469</td>\n",
       "      <td>0.577654</td>\n",
       "      <td>0.362086</td>\n",
       "    </tr>\n",
       "    <tr>\n",
       "      <th>min</th>\n",
       "      <td>4.000000</td>\n",
       "      <td>250.000000</td>\n",
       "      <td>1.000000</td>\n",
       "      <td>1.000000</td>\n",
       "      <td>19.000000</td>\n",
       "      <td>1.000000</td>\n",
       "      <td>1.000000</td>\n",
       "    </tr>\n",
       "    <tr>\n",
       "      <th>25%</th>\n",
       "      <td>12.000000</td>\n",
       "      <td>1365.500000</td>\n",
       "      <td>2.000000</td>\n",
       "      <td>2.000000</td>\n",
       "      <td>27.000000</td>\n",
       "      <td>1.000000</td>\n",
       "      <td>1.000000</td>\n",
       "    </tr>\n",
       "    <tr>\n",
       "      <th>50%</th>\n",
       "      <td>18.000000</td>\n",
       "      <td>2319.500000</td>\n",
       "      <td>3.000000</td>\n",
       "      <td>3.000000</td>\n",
       "      <td>33.000000</td>\n",
       "      <td>1.000000</td>\n",
       "      <td>1.000000</td>\n",
       "    </tr>\n",
       "    <tr>\n",
       "      <th>75%</th>\n",
       "      <td>24.000000</td>\n",
       "      <td>3972.250000</td>\n",
       "      <td>4.000000</td>\n",
       "      <td>4.000000</td>\n",
       "      <td>42.000000</td>\n",
       "      <td>2.000000</td>\n",
       "      <td>1.000000</td>\n",
       "    </tr>\n",
       "    <tr>\n",
       "      <th>max</th>\n",
       "      <td>72.000000</td>\n",
       "      <td>18424.000000</td>\n",
       "      <td>4.000000</td>\n",
       "      <td>4.000000</td>\n",
       "      <td>75.000000</td>\n",
       "      <td>4.000000</td>\n",
       "      <td>2.000000</td>\n",
       "    </tr>\n",
       "  </tbody>\n",
       "</table>\n",
       "</div>"
      ],
      "text/plain": [
       "          duration  credit_amount  installment_commitment  residence_since  \\\n",
       "count  1000.000000    1000.000000             1000.000000      1000.000000   \n",
       "mean     20.903000    3271.258000                2.973000         2.845000   \n",
       "std      12.058814    2822.736876                1.118715         1.103718   \n",
       "min       4.000000     250.000000                1.000000         1.000000   \n",
       "25%      12.000000    1365.500000                2.000000         2.000000   \n",
       "50%      18.000000    2319.500000                3.000000         3.000000   \n",
       "75%      24.000000    3972.250000                4.000000         4.000000   \n",
       "max      72.000000   18424.000000                4.000000         4.000000   \n",
       "\n",
       "               age  existing_credits  num_dependents  \n",
       "count  1000.000000       1000.000000     1000.000000  \n",
       "mean     35.546000          1.407000        1.155000  \n",
       "std      11.375469          0.577654        0.362086  \n",
       "min      19.000000          1.000000        1.000000  \n",
       "25%      27.000000          1.000000        1.000000  \n",
       "50%      33.000000          1.000000        1.000000  \n",
       "75%      42.000000          2.000000        1.000000  \n",
       "max      75.000000          4.000000        2.000000  "
      ]
     },
     "execution_count": 5,
     "metadata": {},
     "output_type": "execute_result"
    }
   ],
   "source": [
    "data.describe()"
   ]
  },
  {
   "cell_type": "code",
   "execution_count": 6,
   "id": "554d87f1",
   "metadata": {},
   "outputs": [
    {
     "data": {
      "image/png": "[encoded data removed]",
      "text/plain": [
       "<Figure size 640x480 with 1 Axes>"
      ]
     },
     "metadata": {},
     "output_type": "display_data"
    }
   ],
   "source": [
    "plt.hist(data['age'], edgecolor='black')\n",
    "plt.title('age distribution')\n",
    "plt.xlabel('age')\n",
    "plt.ylabel('Number of applicants')\n",
    "plt.show()"
   ]
  },
  {
   "cell_type": "code",
   "execution_count": 7,
   "id": "028f75f0",
   "metadata": {},
   "outputs": [
    {
     "data": {
      "image/png": "[encoded data removed]",
      "text/plain": [
       "<Figure size 640x480 with 1 Axes>"
      ]
     },
     "metadata": {},
     "output_type": "display_data"
    }
   ],
   "source": [
    "sns.countplot(data, x='purpose')\n",
    "plt.title('Most common loan purposes')\n",
    "plt.xlabel('Loan purpose')\n",
    "plt.ylabel('Number of loans')\n",
    "plt.xticks(rotation=70)\n",
    "plt.show()"
   ]
  },
  {
   "cell_type": "markdown",
   "id": "145bc51b",
   "metadata": {},
   "source": [
    "## Handling Missing Values\n",
    "\n",
    "- Identified missing values in the dataset.\n",
    "- applied an appropriate handling technique\n",
    "- Explained why you chose this technique.\n",
    "- **Visualization Task:** Before and after handling missing values, created a bar chart that shows the count of missing values per column."
   ]
  },
  {
   "cell_type": "code",
   "execution_count": 8,
   "id": "3ee480f8",
   "metadata": {},
   "outputs": [
    {
     "data": {
      "text/plain": [
       "checking_status           91\n",
       "duration                   0\n",
       "credit_history            39\n",
       "purpose                   43\n",
       "credit_amount              0\n",
       "savings_status            13\n",
       "employment                13\n",
       "installment_commitment     0\n",
       "personal_status            0\n",
       "other_parties              0\n",
       "residence_since            0\n",
       "property_magnitude        58\n",
       "age                        0\n",
       "other_payment_plans        0\n",
       "housing                   69\n",
       "existing_credits           0\n",
       "job                        0\n",
       "num_dependents             0\n",
       "own_telephone              0\n",
       "foreign_worker             0\n",
       "class                      0\n",
       "dtype: int64"
      ]
     },
     "execution_count": 8,
     "metadata": {},
     "output_type": "execute_result"
    }
   ],
   "source": [
    "data.isnull().sum()"
   ]
  },
  {
   "cell_type": "code",
   "execution_count": 9,
   "id": "14faca75",
   "metadata": {},
   "outputs": [
    {
     "data": {
      "image/png": "[encoded data removed]",
      "text/plain": [
       "<Figure size 640x480 with 1 Axes>"
      ]
     },
     "metadata": {},
     "output_type": "display_data"
    }
   ],
   "source": [
    "sns.heatmap(data.isnull(), cbar=False)\n",
    "plt.show()"
   ]
  },
  {
   "cell_type": "code",
   "execution_count": 10,
   "id": "c9290923",
   "metadata": {},
   "outputs": [
    {
     "data": {
      "image/png": "[encoded data removed]",
      "text/plain": [
       "<Figure size 1500x1200 with 9 Axes>"
      ]
     },
     "metadata": {},
     "output_type": "display_data"
    }
   ],
   "source": [
    "missing_cols = ['checking_status', 'credit_history', 'purpose', 'savings_status','employment','property_magnitude','housing']\n",
    "fig, axs = plt.subplots(3, 3, figsize=(15, 12))\n",
    "\n",
    "for i, col in enumerate(missing_cols):\n",
    "    row = i // 3  \n",
    "    col_idx = i % 3  \n",
    "    ax = axs[row, col_idx]\n",
    "    data[col].isnull().value_counts().sort_index().plot(kind='bar', ax=ax)\n",
    "    ax.set_title(f\"Distribution of {col}\")\n",
    "\n",
    "plt.tight_layout()\n",
    "plt.show()"
   ]
  },
  {
   "cell_type": "code",
   "execution_count": 11,
   "id": "688044ce",
   "metadata": {},
   "outputs": [],
   "source": [
    "data.fillna({'checking_status': 'no checking'}, inplace=True) # added 'no checking' to not be biased towards any category \n",
    "\n",
    "#filling 'credit_history' and 'purpose' with 'unknown' to avoid bias also\n",
    "data['credit_history'] = data['credit_history'].fillna('unknown')\n",
    "data['purpose'] = data['purpose'].fillna('unknown')\n",
    "\n",
    "# filling it with the most common value because this is a not a very important financial background\n",
    "data.fillna({'savings_status': data['savings_status'].mode()[0]}, inplace=True)\n",
    "data.fillna({'employment': data['employment'].mode()[0]}, inplace=True)\n",
    "data.fillna({'property_magnitude': data['property_magnitude'].mode()[0]}, inplace=True)\n",
    "data.fillna({'housing': data['housing'].mode()[0]}, inplace=True)"
   ]
  },
  {
   "cell_type": "code",
   "execution_count": 12,
   "id": "3d601bce",
   "metadata": {},
   "outputs": [
    {
     "data": {
      "text/plain": [
       "checking_status           0\n",
       "duration                  0\n",
       "credit_history            0\n",
       "purpose                   0\n",
       "credit_amount             0\n",
       "savings_status            0\n",
       "employment                0\n",
       "installment_commitment    0\n",
       "personal_status           0\n",
       "other_parties             0\n",
       "residence_since           0\n",
       "property_magnitude        0\n",
       "age                       0\n",
       "other_payment_plans       0\n",
       "housing                   0\n",
       "existing_credits          0\n",
       "job                       0\n",
       "num_dependents            0\n",
       "own_telephone             0\n",
       "foreign_worker            0\n",
       "class                     0\n",
       "dtype: int64"
      ]
     },
     "execution_count": 12,
     "metadata": {},
     "output_type": "execute_result"
    }
   ],
   "source": [
    "data.isnull().sum()"
   ]
  },
  {
   "cell_type": "code",
   "execution_count": 13,
   "id": "973c6585",
   "metadata": {},
   "outputs": [
    {
     "data": {
      "image/png": "[encoded data removed]",
      "text/plain": [
       "<Figure size 1500x1200 with 9 Axes>"
      ]
     },
     "metadata": {},
     "output_type": "display_data"
    }
   ],
   "source": [
    "missing_cols = ['checking_status', 'credit_history', 'purpose', 'savings_status','employment','property_magnitude','housing']\n",
    "fig, axs = plt.subplots(3, 3, figsize=(15, 12))\n",
    "\n",
    "for i, col in enumerate(missing_cols):\n",
    "    row = i // 3  \n",
    "    col_idx = i % 3  \n",
    "    ax = axs[row, col_idx]\n",
    "    data[col].isnull().value_counts().sort_index().plot(kind='bar', ax=ax)\n",
    "    ax.set_title(f\"Distribution of {col}\")\n",
    "\n",
    "plt.tight_layout()\n",
    "plt.show()"
   ]
  },
  {
   "cell_type": "markdown",
   "id": "211f24ee",
   "metadata": {},
   "source": [
    "## Handling Duplicated Data\n",
    "\n",
    "- Checked if there are duplicated rows.\n",
    "- **Visualization:** Showed before vs. after comparison of dataset size using a simple bar chart "
   ]
  },
  {
   "cell_type": "code",
   "execution_count": 14,
   "id": "cf8680e3",
   "metadata": {},
   "outputs": [
    {
     "data": {
      "text/plain": [
       "np.int64(0)"
      ]
     },
     "execution_count": 14,
     "metadata": {},
     "output_type": "execute_result"
    }
   ],
   "source": [
    "data.duplicated().sum()"
   ]
  },
  {
   "cell_type": "code",
   "execution_count": 15,
   "id": "9e2d94dc",
   "metadata": {},
   "outputs": [
    {
     "data": {
      "image/png": "[encoded data removed]",
      "text/plain": [
       "<Figure size 800x600 with 1 Axes>"
      ]
     },
     "metadata": {},
     "output_type": "display_data"
    }
   ],
   "source": [
    "#no change\n",
    "beforeD = data.shape[0]\n",
    "data.drop_duplicates()\n",
    "afterD = data.shape[0]\n",
    "     \n",
    "plt.figure(figsize=(8, 6))\n",
    "plt.bar(['Before', 'After'], [beforeD, afterD])\n",
    "plt.title('Before and after duplicates')\n",
    "plt.ylabel('Number of rows')\n",
    "plt.show()"
   ]
  },
  {
   "cell_type": "markdown",
   "id": "481c8f3d",
   "metadata": {},
   "source": [
    "##  Outlier Detection and Handling\n",
    "\n",
    "- Detected the outliers in the numerical columns (e.g., credit_amount, age, duration) using a statistical method IQR \n",
    "- **Visualization  (Step 1):** Used boxplots to visualize outliers in  two numerical features.\n",
    "- Handled the outliers \n",
    "- **Visualization  (Step 2):** Showd the boxplots again after handling outliers to compare the effect.\n",
    "\n",
    "\n",
    "**note:** there is no need to remove the outliers,all of them can be acceptable "
   ]
  },
  {
   "cell_type": "code",
   "execution_count": 16,
   "id": "3f21d830",
   "metadata": {},
   "outputs": [
    {
     "data": {
      "application/vnd.plotly.v1+json": {
       "config": {
        "plotlyServerURL": "https://plot.ly"
       },
       "data": [
        {
         "name": "Credit Amount",
         "type": "box",
         "xaxis": "x",
         "y": {
          "bdata": "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",
          "dtype": "i2"
         },
         "yaxis": "y"
        },
        {
         "name": "Duration",
         "type": "box",
         "xaxis": "x2",
         "y": {
          "bdata": "BjAMKhgkGCQMHgwwDBgPGBgeGBgJBgoMCgYGDAc8EhgSDAwtMBIKCR4MEh4wCyQGCwwYGwwSJAYMJBIkCQ8kMBgbDAwkJCQHCCokDCoLNh4YDxIYCgwSJBIMDAwMGAw2DBIkFBgkBgkMGBIMGA4GDxIkDDAqCiEMFRgMChIMDAwMDDAkDxI8DBsMDwwGJBsSFTAGDCQSBgokGBgMCQwYBhgSDwokBhILGBgPDBgIFR4MBgwVJCQVGBIPCRAMEhgwGwYtCQYMGBIJDBsMDB4MDBgMCSQbHiQGEiQYCgwMDBgPJDAMCRgkCQwSBBgGFQweGAYwDAwYDAYYEgYMHhgJPBgMDwsMGBIMCg8kGA4YEgwwMB4JEgwGGA8MEg8YLzAwDBgMJBgqMDAMChIVBiQYCjAGHgwICTAYGAwEJAwYDA8eGBgSEggMGCQGGBI8MBgGDQ8YChgVEhIKDw0YBgkJCRIMChgMJAweEgwMBhIMEhIkEiQSCjw8MBIHJAYUEhYMHhISEg8JEgwkBgknDCQMGBISGA4SGBgPGAwYIQwKGCQMEhUSDwwMFQwSHBIJEgUYBhgJDAYYKgwMDBQMMAkkBwwPJAYMGBgYCwwGEiQPDAwSGBgwIRgYBgkGEhInGAwPDBgeDwwGDBgKBgwbBgYMGCQYEgYYJAkYGAoPDxgnDCQPDBgGBiQGBhgSMBgSGg8EJAYkDwwYGBUGEjASDBgeEgwYGBgMMAwGMAwJDBIVGBIYGAYkGBgMGDAwGB4YDwkPDBgkGBIMCSQMEgkMEgwMGBUYGAYYGBIYBwkYJAoYGCQSDwwKFRgSMDwGHgwVEjAMEg8GCSoJGBIPCRgMGDwMKhIPDxgSJB4MGAwwDBgkGA4MMB4SDAwVBgYYHjAMHhgkPAYVHhhIGBIGDA8YJDwKJAkMDw8YBhgGDAwSDwwwGB4bDzAMCQkSBhUJPB4eEhgUCQYMCRsGDxIwGBgYCBgEJBgSBh4YChUYJw0PDBUPBhIMHgwYBg8YDA8SDBUYDB4KDAwYJBUYDBgkEiQSJxgMDBQSFjAwKBUYBhgYCRIMGAkYEhQMDCQGDCoPCAYkMDAkBgYkEgwMJAgSFRISJDAYEi0YDwwMBBgYJBUSGBIVEhgJDBQYDxIkGAoPDwkYEhgbCg8SDCQMJAYYDwwLEiQJHhgYHhIYDBgwJBwbDwwkEiQVDA8SEBQkDxgMFSQPCSQYHgsYMAoGGBgSMAkMGAwSMB4MGAkJDAweCQY8GAwKGAQPMBgMEhgSJBgkDBgeCRwYBhUPGAYeGw8qCw8YGDweGAYSGA8eMBUkGA8qDRgYDA8SJAwMHgwtLQ==",
          "dtype": "i1"
         },
         "yaxis": "y2"
        }
       ],
       "layout": {
        "template": {
         "data": {
          "bar": [
           {
            "error_x": {
             "color": "#2a3f5f"
            },
            "error_y": {
             "color": "#2a3f5f"
            },
            "marker": {
             "line": {
              "color": "#E5ECF6",
              "width": 0.5
             },
             "pattern": {
              "fillmode": "overlay",
              "size": 10,
              "solidity": 0.2
             }
            },
            "type": "bar"
           }
          ],
          "barpolar": [
           {
            "marker": {
             "line": {
              "color": "#E5ECF6",
              "width": 0.5
             },
             "pattern": {
              "fillmode": "overlay",
              "size": 10,
              "solidity": 0.2
             }
            },
            "type": "barpolar"
           }
          ],
          "carpet": [
           {
            "aaxis": {
             "endlinecolor": "#2a3f5f",
             "gridcolor": "white",
             "linecolor": "white",
             "minorgridcolor": "white",
             "startlinecolor": "#2a3f5f"
            },
            "baxis": {
             "endlinecolor": "#2a3f5f",
             "gridcolor": "white",
             "linecolor": "white",
             "minorgridcolor": "white",
             "startlinecolor": "#2a3f5f"
            },
            "type": "carpet"
           }
          ],
          "choropleth": [
           {
            "colorbar": {
             "outlinewidth": 0,
             "ticks": ""
            },
            "type": "choropleth"
           }
          ],
          "contour": [
           {
            "colorbar": {
             "outlinewidth": 0,
             "ticks": ""
            },
            "colorscale": [
             [
              0,
              "#0d0887"
             ],
             [
              0.1111111111111111,
              "#46039f"
             ],
             [
              0.2222222222222222,
              "#7201a8"
             ],
             [
              0.3333333333333333,
              "#9c179e"
             ],
             [
              0.4444444444444444,
              "#bd3786"
             ],
             [
              0.5555555555555556,
              "#d8576b"
             ],
             [
              0.6666666666666666,
              "#ed7953"
             ],
             [
              0.7777777777777778,
              "#fb9f3a"
             ],
             [
              0.8888888888888888,
              "#fdca26"
             ],
             [
              1,
              "#f0f921"
             ]
            ],
            "type": "contour"
           }
          ],
          "contourcarpet": [
           {
            "colorbar": {
             "outlinewidth": 0,
             "ticks": ""
            },
            "type": "contourcarpet"
           }
          ],
          "heatmap": [
           {
            "colorbar": {
             "outlinewidth": 0,
             "ticks": ""
            },
            "colorscale": [
             [
              0,
              "#0d0887"
             ],
             [
              0.1111111111111111,
              "#46039f"
             ],
             [
              0.2222222222222222,
              "#7201a8"
             ],
             [
              0.3333333333333333,
              "#9c179e"
             ],
             [
              0.4444444444444444,
              "#bd3786"
             ],
             [
              0.5555555555555556,
              "#d8576b"
             ],
             [
              0.6666666666666666,
              "#ed7953"
             ],
             [
              0.7777777777777778,
              "#fb9f3a"
             ],
             [
              0.8888888888888888,
              "#fdca26"
             ],
             [
              1,
              "#f0f921"
             ]
            ],
            "type": "heatmap"
           }
          ],
          "histogram": [
           {
            "marker": {
             "pattern": {
              "fillmode": "overlay",
              "size": 10,
              "solidity": 0.2
             }
            },
            "type": "histogram"
           }
          ],
          "histogram2d": [
           {
            "colorbar": {
             "outlinewidth": 0,
             "ticks": ""
            },
            "colorscale": [
             [
              0,
              "#0d0887"
             ],
             [
              0.1111111111111111,
              "#46039f"
             ],
             [
              0.2222222222222222,
              "#7201a8"
             ],
             [
              0.3333333333333333,
              "#9c179e"
             ],
             [
              0.4444444444444444,
              "#bd3786"
             ],
             [
              0.5555555555555556,
              "#d8576b"
             ],
             [
              0.6666666666666666,
              "#ed7953"
             ],
             [
              0.7777777777777778,
              "#fb9f3a"
             ],
             [
              0.8888888888888888,
              "#fdca26"
             ],
             [
              1,
              "#f0f921"
             ]
            ],
            "type": "histogram2d"
           }
          ],
          "histogram2dcontour": [
           {
            "colorbar": {
             "outlinewidth": 0,
             "ticks": ""
            },
            "colorscale": [
             [
              0,
              "#0d0887"
             ],
             [
              0.1111111111111111,
              "#46039f"
             ],
             [
              0.2222222222222222,
              "#7201a8"
             ],
             [
              0.3333333333333333,
              "#9c179e"
             ],
             [
              0.4444444444444444,
              "#bd3786"
             ],
             [
              0.5555555555555556,
              "#d8576b"
             ],
             [
              0.6666666666666666,
              "#ed7953"
             ],
             [
              0.7777777777777778,
              "#fb9f3a"
             ],
             [
              0.8888888888888888,
              "#fdca26"
             ],
             [
              1,
              "#f0f921"
             ]
            ],
            "type": "histogram2dcontour"
           }
          ],
          "mesh3d": [
           {
            "colorbar": {
             "outlinewidth": 0,
             "ticks": ""
            },
            "type": "mesh3d"
           }
          ],
          "parcoords": [
           {
            "line": {
             "colorbar": {
              "outlinewidth": 0,
              "ticks": ""
             }
            },
            "type": "parcoords"
           }
          ],
          "pie": [
           {
            "automargin": true,
            "type": "pie"
           }
          ],
          "scatter": [
           {
            "fillpattern": {
             "fillmode": "overlay",
             "size": 10,
             "solidity": 0.2
            },
            "type": "scatter"
           }
          ],
          "scatter3d": [
           {
            "line": {
             "colorbar": {
              "outlinewidth": 0,
              "ticks": ""
             }
            },
            "marker": {
             "colorbar": {
              "outlinewidth": 0,
              "ticks": ""
             }
            },
            "type": "scatter3d"
           }
          ],
          "scattercarpet": [
           {
            "marker": {
             "colorbar": {
              "outlinewidth": 0,
              "ticks": ""
             }
            },
            "type": "scattercarpet"
           }
          ],
          "scattergeo": [
           {
            "marker": {
             "colorbar": {
              "outlinewidth": 0,
              "ticks": ""
             }
            },
            "type": "scattergeo"
           }
          ],
          "scattergl": [
           {
            "marker": {
             "colorbar": {
              "outlinewidth": 0,
              "ticks": ""
             }
            },
            "type": "scattergl"
           }
          ],
          "scattermap": [
           {
            "marker": {
             "colorbar": {
              "outlinewidth": 0,
              "ticks": ""
             }
            },
            "type": "scattermap"
           }
          ],
          "scattermapbox": [
           {
            "marker": {
             "colorbar": {
              "outlinewidth": 0,
              "ticks": ""
             }
            },
            "type": "scattermapbox"
           }
          ],
          "scatterpolar": [
           {
            "marker": {
             "colorbar": {
              "outlinewidth": 0,
              "ticks": ""
             }
            },
            "type": "scatterpolar"
           }
          ],
          "scatterpolargl": [
           {
            "marker": {
             "colorbar": {
              "outlinewidth": 0,
              "ticks": ""
             }
            },
            "type": "scatterpolargl"
           }
          ],
          "scatterternary": [
           {
            "marker": {
             "colorbar": {
              "outlinewidth": 0,
              "ticks": ""
             }
            },
            "type": "scatterternary"
           }
          ],
          "surface": [
           {
            "colorbar": {
             "outlinewidth": 0,
             "ticks": ""
            },
            "colorscale": [
             [
              0,
              "#0d0887"
             ],
             [
              0.1111111111111111,
              "#46039f"
             ],
             [
              0.2222222222222222,
              "#7201a8"
             ],
             [
              0.3333333333333333,
              "#9c179e"
             ],
             [
              0.4444444444444444,
              "#bd3786"
             ],
             [
              0.5555555555555556,
              "#d8576b"
             ],
             [
              0.6666666666666666,
              "#ed7953"
             ],
             [
              0.7777777777777778,
              "#fb9f3a"
             ],
             [
              0.8888888888888888,
              "#fdca26"
             ],
             [
              1,
              "#f0f921"
             ]
            ],
            "type": "surface"
           }
          ],
          "table": [
           {
            "cells": {
             "fill": {
              "color": "#EBF0F8"
             },
             "line": {
              "color": "white"
             }
            },
            "header": {
             "fill": {
              "color": "#C8D4E3"
             },
             "line": {
              "color": "white"
             }
            },
            "type": "table"
           }
          ]
         },
         "layout": {
          "annotationdefaults": {
           "arrowcolor": "#2a3f5f",
           "arrowhead": 0,
           "arrowwidth": 1
          },
          "autotypenumbers": "strict",
          "coloraxis": {
           "colorbar": {
            "outlinewidth": 0,
            "ticks": ""
           }
          },
          "colorscale": {
           "diverging": [
            [
             0,
             "#8e0152"
            ],
            [
             0.1,
             "#c51b7d"
            ],
            [
             0.2,
             "#de77ae"
            ],
            [
             0.3,
             "#f1b6da"
            ],
            [
             0.4,
             "#fde0ef"
            ],
            [
             0.5,
             "#f7f7f7"
            ],
            [
             0.6,
             "#e6f5d0"
            ],
            [
             0.7,
             "#b8e186"
            ],
            [
             0.8,
             "#7fbc41"
            ],
            [
             0.9,
             "#4d9221"
            ],
            [
             1,
             "#276419"
            ]
           ],
           "sequential": [
            [
             0,
             "#0d0887"
            ],
            [
             0.1111111111111111,
             "#46039f"
            ],
            [
             0.2222222222222222,
             "#7201a8"
            ],
            [
             0.3333333333333333,
             "#9c179e"
            ],
            [
             0.4444444444444444,
             "#bd3786"
            ],
            [
             0.5555555555555556,
             "#d8576b"
            ],
            [
             0.6666666666666666,
             "#ed7953"
            ],
            [
             0.7777777777777778,
             "#fb9f3a"
            ],
            [
             0.8888888888888888,
             "#fdca26"
            ],
            [
             1,
             "#f0f921"
            ]
           ],
           "sequentialminus": [
            [
             0,
             "#0d0887"
            ],
            [
             0.1111111111111111,
             "#46039f"
            ],
            [
             0.2222222222222222,
             "#7201a8"
            ],
            [
             0.3333333333333333,
             "#9c179e"
            ],
            [
             0.4444444444444444,
             "#bd3786"
            ],
            [
             0.5555555555555556,
             "#d8576b"
            ],
            [
             0.6666666666666666,
             "#ed7953"
            ],
            [
             0.7777777777777778,
             "#fb9f3a"
            ],
            [
             0.8888888888888888,
             "#fdca26"
            ],
            [
             1,
             "#f0f921"
            ]
           ]
          },
          "colorway": [
           "#636efa",
           "#EF553B",
           "#00cc96",
           "#ab63fa",
           "#FFA15A",
           "#19d3f3",
           "#FF6692",
           "#B6E880",
           "#FF97FF",
           "#FECB52"
          ],
          "font": {
           "color": "#2a3f5f"
          },
          "geo": {
           "bgcolor": "white",
           "lakecolor": "white",
           "landcolor": "#E5ECF6",
           "showlakes": true,
           "showland": true,
           "subunitcolor": "white"
          },
          "hoverlabel": {
           "align": "left"
          },
          "hovermode": "closest",
          "mapbox": {
           "style": "light"
          },
          "paper_bgcolor": "white",
          "plot_bgcolor": "#E5ECF6",
          "polar": {
           "angularaxis": {
            "gridcolor": "white",
            "linecolor": "white",
            "ticks": ""
           },
           "bgcolor": "#E5ECF6",
           "radialaxis": {
            "gridcolor": "white",
            "linecolor": "white",
            "ticks": ""
           }
          },
          "scene": {
           "xaxis": {
            "backgroundcolor": "#E5ECF6",
            "gridcolor": "white",
            "gridwidth": 2,
            "linecolor": "white",
            "showbackground": true,
            "ticks": "",
            "zerolinecolor": "white"
           },
           "yaxis": {
            "backgroundcolor": "#E5ECF6",
            "gridcolor": "white",
            "gridwidth": 2,
            "linecolor": "white",
            "showbackground": true,
            "ticks": "",
            "zerolinecolor": "white"
           },
           "zaxis": {
            "backgroundcolor": "#E5ECF6",
            "gridcolor": "white",
            "gridwidth": 2,
            "linecolor": "white",
            "showbackground": true,
            "ticks": "",
            "zerolinecolor": "white"
           }
          },
          "shapedefaults": {
           "line": {
            "color": "#2a3f5f"
           }
          },
          "ternary": {
           "aaxis": {
            "gridcolor": "white",
            "linecolor": "white",
            "ticks": ""
           },
           "baxis": {
            "gridcolor": "white",
            "linecolor": "white",
            "ticks": ""
           },
           "bgcolor": "#E5ECF6",
           "caxis": {
            "gridcolor": "white",
            "linecolor": "white",
            "ticks": ""
           }
          },
          "title": {
           "x": 0.05
          },
          "xaxis": {
           "automargin": true,
           "gridcolor": "white",
           "linecolor": "white",
           "ticks": "",
           "title": {
            "standoff": 15
           },
           "zerolinecolor": "white",
           "zerolinewidth": 2
          },
          "yaxis": {
           "automargin": true,
           "gridcolor": "white",
           "linecolor": "white",
           "ticks": "",
           "title": {
            "standoff": 15
           },
           "zerolinecolor": "white",
           "zerolinewidth": 2
          }
         }
        },
        "xaxis": {
         "anchor": "y",
         "domain": [
          0,
          0.45
         ]
        },
        "xaxis2": {
         "anchor": "y2",
         "domain": [
          0.55,
          1
         ]
        },
        "yaxis": {
         "anchor": "x",
         "domain": [
          0,
          1
         ]
        },
        "yaxis2": {
         "anchor": "x2",
         "domain": [
          0,
          1
         ]
        }
       }
      }
     },
     "metadata": {},
     "output_type": "display_data"
    }
   ],
   "source": [
    "fig = make_subplots(rows=1, cols=2)\n",
    "\n",
    "fig.add_trace(go.Box(y=data[\"credit_amount\"],name ='Credit Amount'), row=1, col=1)\n",
    "\n",
    "fig.add_trace(go.Box(y=data['duration'],name ='Duration'), row=1, col=2)"
   ]
  },
  {
   "cell_type": "code",
   "execution_count": 17,
   "id": "a173aa80",
   "metadata": {},
   "outputs": [],
   "source": [
    "Q1 = data['credit_amount'].quantile(0.25)\n",
    "Q3 = data['credit_amount'].quantile(0.75)\n",
    "IQR = Q3 - Q1\n",
    "\n",
    "lower = Q1 - 1.5 * IQR\n",
    "upper = Q3 + 1.5 * IQR\n",
    "outliersM = ((data['credit_amount'] < lower) | (data['credit_amount'] > upper))\n",
    "\n",
    "data = data[~outliersM]"
   ]
  },
  {
   "cell_type": "code",
   "execution_count": 18,
   "id": "1d93ff3f",
   "metadata": {},
   "outputs": [],
   "source": [
    "Q1 = data['duration'].quantile(0.25)\n",
    "Q3 = data['duration'].quantile(0.75)\n",
    "IQR = Q3 - Q1\n",
    "\n",
    "lower = Q1 - 1.5 * IQR\n",
    "upper = Q3 + 1.5 * IQR\n",
    "outliersM2 = ((data['duration'] < lower) | (data['duration'] > upper))\n",
    "\n",
    "data = data[~outliersM2]"
   ]
  },
  {
   "cell_type": "code",
   "execution_count": 19,
   "id": "db6bfe57",
   "metadata": {},
   "outputs": [
    {
     "data": {
      "application/vnd.plotly.v1+json": {
       "config": {
        "plotlyServerURL": "https://plot.ly"
       },
       "data": [
        {
         "name": "Credit Amount",
         "type": "box",
         "xaxis": "x",
         "y": {
          "bdata": "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",
          "dtype": "i2"
         },
         "yaxis": "y"
        },
        {
         "name": "Duration",
         "type": "box",
         "xaxis": "x2",
         "y": {
          "bdata": "BgwqGBgkDB4MDBgPGBgYCQYKDAoGBgwHEhgSDAwSCgkeDBIeCyQGCwwYGwwSJAYMEiQJDyQYGwwMJCQHCCokDCoLHhgPEhgKDBISDAwMDBgMDBIkFBgkBgkMEgwYDgYPEiQMKgohDBUYDAoSDAwMDAwkDxIMDA8MBiQbEhUGDCQSBgokGBgMCQwYBhgSDwokBhILGBgPDBgIFR4MBgwVJBUYEg8JEAwSGBsGCQYMGBIJDBsMDAwMGAwJJBseJAYSJBgKDAwMGA8kDAkYJAkMEgQYFQweGAYMDBgMBhgSBgweGAkYDA8LDBgSDAoPJBgYEgwJEgwGGA8MEg8YDBgMGCoMChIVBiQYCgYeDAgJGBgMBCQMGAwPHhgYEhIIDBgkBhgSGAYNDxgKGBUSEgoPDRgGCQkJEgwKGAwkDB4SDAwGEgwSEiQSJBIKEgcGFBYMHhISEg8JEgwkBgkMJAwYEhIOEhgYDxgMGCEMChgkDBUSDwwMFQwSHBIJEgUGGAkMBhgqDAwMFAwJJAcMDwYMGBgYCwwGEiQPDAwSGBghGBgGCQYSEicYDA8MGB4PDAYMGAoGDAYGDBgYEgYYJAkYGAoPDxgMJA8MGAYGJAYGGBIYEg8EJAYkDwwYGBUGEhIMGB4SDBgYGAwMBgwJDBIVGBIYGAYYGAwYGB4YDwkPDBgkGBIMCSQMEgkMEgwMGBUYGAYYGBIYBwkYJAoYGCQSDwwKFRgSBh4MFRIMEg8GCSoJGBIPCRgMGAwqEg8PGBIeDBgMDBgYDgweEgwMFQYGGB4MHhgkBhUeGBgSBgwPGAokCQwPDxgGGAYMDBIPDBgeGw8MCQkSBhUJHh4SGBQJBgwJGwYPEhgYGAgYBCQSBh4YChUYDQ8MFQ8GEgweDBgGDxgMDxIMGAweCgwMGBUYDBgkEiQSJxgMDBQSFigVGAYYGAkSDBgJGBIUDAwGDA8IBiQGBhIMDCQIEhUSEhgSGA8MDAQYGCQVEhgSFRIYCQwUGA8SGAoPDwkYEhgbCg8SDCQMJAYYDwwLEiQJHhgeEhgMGCQcGw8MJBIVDA8SEBQPGAwVJA8JJBgeCxgKGBgSCQwYDBIeDBgJCQwMHgkGGAwKGAQPGAwSGBIkGAwYHgkcGAYVDxgGHhsPKgsPGBgeGAYSGA8VGA8qDRgYDA8SJAwMHgw=",
          "dtype": "i1"
         },
         "yaxis": "y2"
        }
       ],
       "layout": {
        "template": {
         "data": {
          "bar": [
           {
            "error_x": {
             "color": "#2a3f5f"
            },
            "error_y": {
             "color": "#2a3f5f"
            },
            "marker": {
             "line": {
              "color": "#E5ECF6",
              "width": 0.5
             },
             "pattern": {
              "fillmode": "overlay",
              "size": 10,
              "solidity": 0.2
             }
            },
            "type": "bar"
           }
          ],
          "barpolar": [
           {
            "marker": {
             "line": {
              "color": "#E5ECF6",
              "width": 0.5
             },
             "pattern": {
              "fillmode": "overlay",
              "size": 10,
              "solidity": 0.2
             }
            },
            "type": "barpolar"
           }
          ],
          "carpet": [
           {
            "aaxis": {
             "endlinecolor": "#2a3f5f",
             "gridcolor": "white",
             "linecolor": "white",
             "minorgridcolor": "white",
             "startlinecolor": "#2a3f5f"
            },
            "baxis": {
             "endlinecolor": "#2a3f5f",
             "gridcolor": "white",
             "linecolor": "white",
             "minorgridcolor": "white",
             "startlinecolor": "#2a3f5f"
            },
            "type": "carpet"
           }
          ],
          "choropleth": [
           {
            "colorbar": {
             "outlinewidth": 0,
             "ticks": ""
            },
            "type": "choropleth"
           }
          ],
          "contour": [
           {
            "colorbar": {
             "outlinewidth": 0,
             "ticks": ""
            },
            "colorscale": [
             [
              0,
              "#0d0887"
             ],
             [
              0.1111111111111111,
              "#46039f"
             ],
             [
              0.2222222222222222,
              "#7201a8"
             ],
             [
              0.3333333333333333,
              "#9c179e"
             ],
             [
              0.4444444444444444,
              "#bd3786"
             ],
             [
              0.5555555555555556,
              "#d8576b"
             ],
             [
              0.6666666666666666,
              "#ed7953"
             ],
             [
              0.7777777777777778,
              "#fb9f3a"
             ],
             [
              0.8888888888888888,
              "#fdca26"
             ],
             [
              1,
              "#f0f921"
             ]
            ],
            "type": "contour"
           }
          ],
          "contourcarpet": [
           {
            "colorbar": {
             "outlinewidth": 0,
             "ticks": ""
            },
            "type": "contourcarpet"
           }
          ],
          "heatmap": [
           {
            "colorbar": {
             "outlinewidth": 0,
             "ticks": ""
            },
            "colorscale": [
             [
              0,
              "#0d0887"
             ],
             [
              0.1111111111111111,
              "#46039f"
             ],
             [
              0.2222222222222222,
              "#7201a8"
             ],
             [
              0.3333333333333333,
              "#9c179e"
             ],
             [
              0.4444444444444444,
              "#bd3786"
             ],
             [
              0.5555555555555556,
              "#d8576b"
             ],
             [
              0.6666666666666666,
              "#ed7953"
             ],
             [
              0.7777777777777778,
              "#fb9f3a"
             ],
             [
              0.8888888888888888,
              "#fdca26"
             ],
             [
              1,
              "#f0f921"
             ]
            ],
            "type": "heatmap"
           }
          ],
          "histogram": [
           {
            "marker": {
             "pattern": {
              "fillmode": "overlay",
              "size": 10,
              "solidity": 0.2
             }
            },
            "type": "histogram"
           }
          ],
          "histogram2d": [
           {
            "colorbar": {
             "outlinewidth": 0,
             "ticks": ""
            },
            "colorscale": [
             [
              0,
              "#0d0887"
             ],
             [
              0.1111111111111111,
              "#46039f"
             ],
             [
              0.2222222222222222,
              "#7201a8"
             ],
             [
              0.3333333333333333,
              "#9c179e"
             ],
             [
              0.4444444444444444,
              "#bd3786"
             ],
             [
              0.5555555555555556,
              "#d8576b"
             ],
             [
              0.6666666666666666,
              "#ed7953"
             ],
             [
              0.7777777777777778,
              "#fb9f3a"
             ],
             [
              0.8888888888888888,
              "#fdca26"
             ],
             [
              1,
              "#f0f921"
             ]
            ],
            "type": "histogram2d"
           }
          ],
          "histogram2dcontour": [
           {
            "colorbar": {
             "outlinewidth": 0,
             "ticks": ""
            },
            "colorscale": [
             [
              0,
              "#0d0887"
             ],
             [
              0.1111111111111111,
              "#46039f"
             ],
             [
              0.2222222222222222,
              "#7201a8"
             ],
             [
              0.3333333333333333,
              "#9c179e"
             ],
             [
              0.4444444444444444,
              "#bd3786"
             ],
             [
              0.5555555555555556,
              "#d8576b"
             ],
             [
              0.6666666666666666,
              "#ed7953"
             ],
             [
              0.7777777777777778,
              "#fb9f3a"
             ],
             [
              0.8888888888888888,
              "#fdca26"
             ],
             [
              1,
              "#f0f921"
             ]
            ],
            "type": "histogram2dcontour"
           }
          ],
          "mesh3d": [
           {
            "colorbar": {
             "outlinewidth": 0,
             "ticks": ""
            },
            "type": "mesh3d"
           }
          ],
          "parcoords": [
           {
            "line": {
             "colorbar": {
              "outlinewidth": 0,
              "ticks": ""
             }
            },
            "type": "parcoords"
           }
          ],
          "pie": [
           {
            "automargin": true,
            "type": "pie"
           }
          ],
          "scatter": [
           {
            "fillpattern": {
             "fillmode": "overlay",
             "size": 10,
             "solidity": 0.2
            },
            "type": "scatter"
           }
          ],
          "scatter3d": [
           {
            "line": {
             "colorbar": {
              "outlinewidth": 0,
              "ticks": ""
             }
            },
            "marker": {
             "colorbar": {
              "outlinewidth": 0,
              "ticks": ""
             }
            },
            "type": "scatter3d"
           }
          ],
          "scattercarpet": [
           {
            "marker": {
             "colorbar": {
              "outlinewidth": 0,
              "ticks": ""
             }
            },
            "type": "scattercarpet"
           }
          ],
          "scattergeo": [
           {
            "marker": {
             "colorbar": {
              "outlinewidth": 0,
              "ticks": ""
             }
            },
            "type": "scattergeo"
           }
          ],
          "scattergl": [
           {
            "marker": {
             "colorbar": {
              "outlinewidth": 0,
              "ticks": ""
             }
            },
            "type": "scattergl"
           }
          ],
          "scattermap": [
           {
            "marker": {
             "colorbar": {
              "outlinewidth": 0,
              "ticks": ""
             }
            },
            "type": "scattermap"
           }
          ],
          "scattermapbox": [
           {
            "marker": {
             "colorbar": {
              "outlinewidth": 0,
              "ticks": ""
             }
            },
            "type": "scattermapbox"
           }
          ],
          "scatterpolar": [
           {
            "marker": {
             "colorbar": {
              "outlinewidth": 0,
              "ticks": ""
             }
            },
            "type": "scatterpolar"
           }
          ],
          "scatterpolargl": [
           {
            "marker": {
             "colorbar": {
              "outlinewidth": 0,
              "ticks": ""
             }
            },
            "type": "scatterpolargl"
           }
          ],
          "scatterternary": [
           {
            "marker": {
             "colorbar": {
              "outlinewidth": 0,
              "ticks": ""
             }
            },
            "type": "scatterternary"
           }
          ],
          "surface": [
           {
            "colorbar": {
             "outlinewidth": 0,
             "ticks": ""
            },
            "colorscale": [
             [
              0,
              "#0d0887"
             ],
             [
              0.1111111111111111,
              "#46039f"
             ],
             [
              0.2222222222222222,
              "#7201a8"
             ],
             [
              0.3333333333333333,
              "#9c179e"
             ],
             [
              0.4444444444444444,
              "#bd3786"
             ],
             [
              0.5555555555555556,
              "#d8576b"
             ],
             [
              0.6666666666666666,
              "#ed7953"
             ],
             [
              0.7777777777777778,
              "#fb9f3a"
             ],
             [
              0.8888888888888888,
              "#fdca26"
             ],
             [
              1,
              "#f0f921"
             ]
            ],
            "type": "surface"
           }
          ],
          "table": [
           {
            "cells": {
             "fill": {
              "color": "#EBF0F8"
             },
             "line": {
              "color": "white"
             }
            },
            "header": {
             "fill": {
              "color": "#C8D4E3"
             },
             "line": {
              "color": "white"
             }
            },
            "type": "table"
           }
          ]
         },
         "layout": {
          "annotationdefaults": {
           "arrowcolor": "#2a3f5f",
           "arrowhead": 0,
           "arrowwidth": 1
          },
          "autotypenumbers": "strict",
          "coloraxis": {
           "colorbar": {
            "outlinewidth": 0,
            "ticks": ""
           }
          },
          "colorscale": {
           "diverging": [
            [
             0,
             "#8e0152"
            ],
            [
             0.1,
             "#c51b7d"
            ],
            [
             0.2,
             "#de77ae"
            ],
            [
             0.3,
             "#f1b6da"
            ],
            [
             0.4,
             "#fde0ef"
            ],
            [
             0.5,
             "#f7f7f7"
            ],
            [
             0.6,
             "#e6f5d0"
            ],
            [
             0.7,
             "#b8e186"
            ],
            [
             0.8,
             "#7fbc41"
            ],
            [
             0.9,
             "#4d9221"
            ],
            [
             1,
             "#276419"
            ]
           ],
           "sequential": [
            [
             0,
             "#0d0887"
            ],
            [
             0.1111111111111111,
             "#46039f"
            ],
            [
             0.2222222222222222,
             "#7201a8"
            ],
            [
             0.3333333333333333,
             "#9c179e"
            ],
            [
             0.4444444444444444,
             "#bd3786"
            ],
            [
             0.5555555555555556,
             "#d8576b"
            ],
            [
             0.6666666666666666,
             "#ed7953"
            ],
            [
             0.7777777777777778,
             "#fb9f3a"
            ],
            [
             0.8888888888888888,
             "#fdca26"
            ],
            [
             1,
             "#f0f921"
            ]
           ],
           "sequentialminus": [
            [
             0,
             "#0d0887"
            ],
            [
             0.1111111111111111,
             "#46039f"
            ],
            [
             0.2222222222222222,
             "#7201a8"
            ],
            [
             0.3333333333333333,
             "#9c179e"
            ],
            [
             0.4444444444444444,
             "#bd3786"
            ],
            [
             0.5555555555555556,
             "#d8576b"
            ],
            [
             0.6666666666666666,
             "#ed7953"
            ],
            [
             0.7777777777777778,
             "#fb9f3a"
            ],
            [
             0.8888888888888888,
             "#fdca26"
            ],
            [
             1,
             "#f0f921"
            ]
           ]
          },
          "colorway": [
           "#636efa",
           "#EF553B",
           "#00cc96",
           "#ab63fa",
           "#FFA15A",
           "#19d3f3",
           "#FF6692",
           "#B6E880",
           "#FF97FF",
           "#FECB52"
          ],
          "font": {
           "color": "#2a3f5f"
          },
          "geo": {
           "bgcolor": "white",
           "lakecolor": "white",
           "landcolor": "#E5ECF6",
           "showlakes": true,
           "showland": true,
           "subunitcolor": "white"
          },
          "hoverlabel": {
           "align": "left"
          },
          "hovermode": "closest",
          "mapbox": {
           "style": "light"
          },
          "paper_bgcolor": "white",
          "plot_bgcolor": "#E5ECF6",
          "polar": {
           "angularaxis": {
            "gridcolor": "white",
            "linecolor": "white",
            "ticks": ""
           },
           "bgcolor": "#E5ECF6",
           "radialaxis": {
            "gridcolor": "white",
            "linecolor": "white",
            "ticks": ""
           }
          },
          "scene": {
           "xaxis": {
            "backgroundcolor": "#E5ECF6",
            "gridcolor": "white",
            "gridwidth": 2,
            "linecolor": "white",
            "showbackground": true,
            "ticks": "",
            "zerolinecolor": "white"
           },
           "yaxis": {
            "backgroundcolor": "#E5ECF6",
            "gridcolor": "white",
            "gridwidth": 2,
            "linecolor": "white",
            "showbackground": true,
            "ticks": "",
            "zerolinecolor": "white"
           },
           "zaxis": {
            "backgroundcolor": "#E5ECF6",
            "gridcolor": "white",
            "gridwidth": 2,
            "linecolor": "white",
            "showbackground": true,
            "ticks": "",
            "zerolinecolor": "white"
           }
          },
          "shapedefaults": {
           "line": {
            "color": "#2a3f5f"
           }
          },
          "ternary": {
           "aaxis": {
            "gridcolor": "white",
            "linecolor": "white",
            "ticks": ""
           },
           "baxis": {
            "gridcolor": "white",
            "linecolor": "white",
            "ticks": ""
           },
           "bgcolor": "#E5ECF6",
           "caxis": {
            "gridcolor": "white",
            "linecolor": "white",
            "ticks": ""
           }
          },
          "title": {
           "x": 0.05
          },
          "xaxis": {
           "automargin": true,
           "gridcolor": "white",
           "linecolor": "white",
           "ticks": "",
           "title": {
            "standoff": 15
           },
           "zerolinecolor": "white",
           "zerolinewidth": 2
          },
          "yaxis": {
           "automargin": true,
           "gridcolor": "white",
           "linecolor": "white",
           "ticks": "",
           "title": {
            "standoff": 15
           },
           "zerolinecolor": "white",
           "zerolinewidth": 2
          }
         }
        },
        "xaxis": {
         "anchor": "y",
         "domain": [
          0,
          0.45
         ]
        },
        "xaxis2": {
         "anchor": "y2",
         "domain": [
          0.55,
          1
         ]
        },
        "yaxis": {
         "anchor": "x",
         "domain": [
          0,
          1
         ]
        },
        "yaxis2": {
         "anchor": "x2",
         "domain": [
          0,
          1
         ]
        }
       }
      }
     },
     "metadata": {},
     "output_type": "display_data"
    }
   ],
   "source": [
    "from plotly.subplots import make_subplots\n",
    "import plotly.graph_objects as go\n",
    "\n",
    "fig = make_subplots(rows=1, cols=2)\n",
    "\n",
    "fig.add_trace(go.Box(y=data[\"credit_amount\"],name ='Credit Amount'), row=1, col=1)\n",
    "\n",
    "fig.add_trace(go.Box(y=data['duration'],name ='Duration'), row=1, col=2)"
   ]
  },
  {
   "cell_type": "code",
   "execution_count": 20,
   "id": "fa29cba9",
   "metadata": {},
   "outputs": [],
   "source": [
    "data.reset_index(drop=True, inplace=True)"
   ]
  },
  {
   "cell_type": "markdown",
   "id": "99b6eec9",
   "metadata": {},
   "source": [
    "##  Data Transformation\n",
    "- Converted categorical variables into numerical format using one-hot encoding and label encoding."
   ]
  },
  {
   "cell_type": "code",
   "execution_count": 21,
   "id": "9239d221",
   "metadata": {},
   "outputs": [
    {
     "name": "stdout",
     "output_type": "stream",
     "text": [
      "['<0' 'no checking' '0<=X<200' '>=200']\n",
      "['critical/other existing credit' 'existing paid' 'delayed previously'\n",
      " 'no credits/all paid' 'all paid' 'unknown']\n",
      "['no known savings' '<100' '500<=X<1000' '>=1000' '100<=X<500']\n",
      "['>=7' '4<=X<7' '1<=X<4' 'unemployed' '<1']\n",
      "['own' 'for free' 'rent']\n",
      "['skilled' 'unskilled resident' 'high qualif/self emp/mgmt'\n",
      " 'unemp/unskilled non res']\n"
     ]
    }
   ],
   "source": [
    "print(data[\"checking_status\"].unique())\n",
    "print(data[\"credit_history\"].unique())\n",
    "print(data[\"savings_status\"].unique())\n",
    "print(data[\"employment\"].unique())\n",
    "print(data[\"housing\"].unique())\n",
    "print(data[\"job\"].unique())"
   ]
  },
  {
   "cell_type": "code",
   "execution_count": 22,
   "id": "b8fe45e0",
   "metadata": {},
   "outputs": [],
   "source": [
    "cate_featuresORD = ['checking_status', 'credit_history', 'savings_status', 'employment', 'housing', 'job']\n",
    "\n",
    "checking_status_order = ['<0', '0<=X<200', '>=200', 'no checking']\n",
    "credit_history_order = ['unknown',\"critical/other existing credit\", \"delayed previously\", \"existing paid\",'all paid','no credits/all paid']\n",
    "savings_status_order = ['no known savings','<100', '100<=X<500', '500<=X<1000', '>=1000']\n",
    "employment_order = ['unemployed', '<1', '1<=X<4', '4<=X<7', '>=7']\n",
    "housing_order = ['for free','rent','own']\n",
    "job_order = ['unemp/unskilled non res','unskilled resident', 'skilled', 'high qualif/self emp/mgmt']\n",
    "\n",
    "encode = OrdinalEncoder(categories= [checking_status_order, credit_history_order, savings_status_order, employment_order, housing_order, job_order])\n",
    "encoded_featuresORD = encode.fit_transform(data[cate_featuresORD])"
   ]
  },
  {
   "cell_type": "code",
   "execution_count": 23,
   "id": "09176c37",
   "metadata": {},
   "outputs": [
    {
     "data": {
      "text/html": [
       "<div>\n",
       "<style scoped>\n",
       "    .dataframe tbody tr th:only-of-type {\n",
       "        vertical-align: middle;\n",
       "    }\n",
       "\n",
       "    .dataframe tbody tr th {\n",
       "        vertical-align: top;\n",
       "    }\n",
       "\n",
       "    .dataframe thead th {\n",
       "        text-align: right;\n",
       "    }\n",
       "</style>\n",
       "<table border=\"1\" class=\"dataframe\">\n",
       "  <thead>\n",
       "    <tr style=\"text-align: right;\">\n",
       "      <th></th>\n",
       "      <th>checking_status</th>\n",
       "      <th>credit_history</th>\n",
       "      <th>savings_status</th>\n",
       "      <th>employment</th>\n",
       "      <th>housing</th>\n",
       "      <th>job</th>\n",
       "      <th>checking_status</th>\n",
       "      <th>credit_history</th>\n",
       "      <th>savings_status</th>\n",
       "      <th>employment</th>\n",
       "      <th>housing</th>\n",
       "      <th>job</th>\n",
       "    </tr>\n",
       "  </thead>\n",
       "  <tbody>\n",
       "    <tr>\n",
       "      <th>0</th>\n",
       "      <td>0.0</td>\n",
       "      <td>1.0</td>\n",
       "      <td>0.0</td>\n",
       "      <td>4.0</td>\n",
       "      <td>2.0</td>\n",
       "      <td>2.0</td>\n",
       "      <td>&lt;0</td>\n",
       "      <td>critical/other existing credit</td>\n",
       "      <td>no known savings</td>\n",
       "      <td>&gt;=7</td>\n",
       "      <td>own</td>\n",
       "      <td>skilled</td>\n",
       "    </tr>\n",
       "    <tr>\n",
       "      <th>1</th>\n",
       "      <td>3.0</td>\n",
       "      <td>1.0</td>\n",
       "      <td>1.0</td>\n",
       "      <td>3.0</td>\n",
       "      <td>2.0</td>\n",
       "      <td>1.0</td>\n",
       "      <td>no checking</td>\n",
       "      <td>critical/other existing credit</td>\n",
       "      <td>&lt;100</td>\n",
       "      <td>4&lt;=X&lt;7</td>\n",
       "      <td>own</td>\n",
       "      <td>unskilled resident</td>\n",
       "    </tr>\n",
       "    <tr>\n",
       "      <th>2</th>\n",
       "      <td>0.0</td>\n",
       "      <td>3.0</td>\n",
       "      <td>1.0</td>\n",
       "      <td>3.0</td>\n",
       "      <td>0.0</td>\n",
       "      <td>2.0</td>\n",
       "      <td>&lt;0</td>\n",
       "      <td>existing paid</td>\n",
       "      <td>&lt;100</td>\n",
       "      <td>4&lt;=X&lt;7</td>\n",
       "      <td>for free</td>\n",
       "      <td>skilled</td>\n",
       "    </tr>\n",
       "    <tr>\n",
       "      <th>3</th>\n",
       "      <td>0.0</td>\n",
       "      <td>2.0</td>\n",
       "      <td>1.0</td>\n",
       "      <td>2.0</td>\n",
       "      <td>0.0</td>\n",
       "      <td>2.0</td>\n",
       "      <td>&lt;0</td>\n",
       "      <td>delayed previously</td>\n",
       "      <td>&lt;100</td>\n",
       "      <td>1&lt;=X&lt;4</td>\n",
       "      <td>for free</td>\n",
       "      <td>skilled</td>\n",
       "    </tr>\n",
       "    <tr>\n",
       "      <th>4</th>\n",
       "      <td>3.0</td>\n",
       "      <td>3.0</td>\n",
       "      <td>3.0</td>\n",
       "      <td>4.0</td>\n",
       "      <td>2.0</td>\n",
       "      <td>2.0</td>\n",
       "      <td>no checking</td>\n",
       "      <td>existing paid</td>\n",
       "      <td>500&lt;=X&lt;1000</td>\n",
       "      <td>&gt;=7</td>\n",
       "      <td>own</td>\n",
       "      <td>skilled</td>\n",
       "    </tr>\n",
       "  </tbody>\n",
       "</table>\n",
       "</div>"
      ],
      "text/plain": [
       "  checking_status credit_history savings_status employment housing  job  \\\n",
       "0             0.0            1.0            0.0        4.0     2.0  2.0   \n",
       "1             3.0            1.0            1.0        3.0     2.0  1.0   \n",
       "2             0.0            3.0            1.0        3.0     0.0  2.0   \n",
       "3             0.0            2.0            1.0        2.0     0.0  2.0   \n",
       "4             3.0            3.0            3.0        4.0     2.0  2.0   \n",
       "\n",
       "  checking_status                  credit_history    savings_status  \\\n",
       "0              <0  critical/other existing credit  no known savings   \n",
       "1     no checking  critical/other existing credit              <100   \n",
       "2              <0                   existing paid              <100   \n",
       "3              <0              delayed previously              <100   \n",
       "4     no checking                   existing paid       500<=X<1000   \n",
       "\n",
       "  employment   housing                 job  \n",
       "0        >=7       own             skilled  \n",
       "1     4<=X<7       own  unskilled resident  \n",
       "2     4<=X<7  for free             skilled  \n",
       "3     1<=X<4  for free             skilled  \n",
       "4        >=7       own             skilled  "
      ]
     },
     "execution_count": 23,
     "metadata": {},
     "output_type": "execute_result"
    }
   ],
   "source": [
    "dataORD = pd.DataFrame(encoded_featuresORD, columns= encode.get_feature_names_out())\n",
    "pd.concat((dataORD, data[cate_featuresORD]), axis= 1).head()"
   ]
  },
  {
   "cell_type": "code",
   "execution_count": 24,
   "id": "0fe8e9cc",
   "metadata": {},
   "outputs": [
    {
     "data": {
      "text/html": [
       "<div>\n",
       "<style scoped>\n",
       "    .dataframe tbody tr th:only-of-type {\n",
       "        vertical-align: middle;\n",
       "    }\n",
       "\n",
       "    .dataframe tbody tr th {\n",
       "        vertical-align: top;\n",
       "    }\n",
       "\n",
       "    .dataframe thead th {\n",
       "        text-align: right;\n",
       "    }\n",
       "</style>\n",
       "<table border=\"1\" class=\"dataframe\">\n",
       "  <thead>\n",
       "    <tr style=\"text-align: right;\">\n",
       "      <th></th>\n",
       "      <th>duration</th>\n",
       "      <th>purpose</th>\n",
       "      <th>credit_amount</th>\n",
       "      <th>installment_commitment</th>\n",
       "      <th>personal_status</th>\n",
       "      <th>other_parties</th>\n",
       "      <th>residence_since</th>\n",
       "      <th>property_magnitude</th>\n",
       "      <th>age</th>\n",
       "      <th>other_payment_plans</th>\n",
       "      <th>...</th>\n",
       "      <th>num_dependents</th>\n",
       "      <th>own_telephone</th>\n",
       "      <th>foreign_worker</th>\n",
       "      <th>class</th>\n",
       "      <th>checking_status</th>\n",
       "      <th>credit_history</th>\n",
       "      <th>savings_status</th>\n",
       "      <th>employment</th>\n",
       "      <th>housing</th>\n",
       "      <th>job</th>\n",
       "    </tr>\n",
       "  </thead>\n",
       "  <tbody>\n",
       "    <tr>\n",
       "      <th>0</th>\n",
       "      <td>6</td>\n",
       "      <td>radio/tv</td>\n",
       "      <td>1169</td>\n",
       "      <td>4</td>\n",
       "      <td>male single</td>\n",
       "      <td>none</td>\n",
       "      <td>4</td>\n",
       "      <td>real estate</td>\n",
       "      <td>67</td>\n",
       "      <td>none</td>\n",
       "      <td>...</td>\n",
       "      <td>1</td>\n",
       "      <td>yes</td>\n",
       "      <td>yes</td>\n",
       "      <td>good</td>\n",
       "      <td>0.0</td>\n",
       "      <td>1.0</td>\n",
       "      <td>0.0</td>\n",
       "      <td>4.0</td>\n",
       "      <td>2.0</td>\n",
       "      <td>2.0</td>\n",
       "    </tr>\n",
       "    <tr>\n",
       "      <th>1</th>\n",
       "      <td>12</td>\n",
       "      <td>education</td>\n",
       "      <td>2096</td>\n",
       "      <td>2</td>\n",
       "      <td>male single</td>\n",
       "      <td>none</td>\n",
       "      <td>3</td>\n",
       "      <td>real estate</td>\n",
       "      <td>49</td>\n",
       "      <td>none</td>\n",
       "      <td>...</td>\n",
       "      <td>2</td>\n",
       "      <td>none</td>\n",
       "      <td>yes</td>\n",
       "      <td>good</td>\n",
       "      <td>3.0</td>\n",
       "      <td>1.0</td>\n",
       "      <td>1.0</td>\n",
       "      <td>3.0</td>\n",
       "      <td>2.0</td>\n",
       "      <td>1.0</td>\n",
       "    </tr>\n",
       "    <tr>\n",
       "      <th>2</th>\n",
       "      <td>42</td>\n",
       "      <td>furniture/equipment</td>\n",
       "      <td>7882</td>\n",
       "      <td>2</td>\n",
       "      <td>male single</td>\n",
       "      <td>guarantor</td>\n",
       "      <td>4</td>\n",
       "      <td>life insurance</td>\n",
       "      <td>45</td>\n",
       "      <td>none</td>\n",
       "      <td>...</td>\n",
       "      <td>2</td>\n",
       "      <td>none</td>\n",
       "      <td>yes</td>\n",
       "      <td>good</td>\n",
       "      <td>0.0</td>\n",
       "      <td>3.0</td>\n",
       "      <td>1.0</td>\n",
       "      <td>3.0</td>\n",
       "      <td>0.0</td>\n",
       "      <td>2.0</td>\n",
       "    </tr>\n",
       "    <tr>\n",
       "      <th>3</th>\n",
       "      <td>24</td>\n",
       "      <td>new car</td>\n",
       "      <td>4870</td>\n",
       "      <td>3</td>\n",
       "      <td>male single</td>\n",
       "      <td>none</td>\n",
       "      <td>4</td>\n",
       "      <td>no known property</td>\n",
       "      <td>53</td>\n",
       "      <td>none</td>\n",
       "      <td>...</td>\n",
       "      <td>2</td>\n",
       "      <td>none</td>\n",
       "      <td>yes</td>\n",
       "      <td>bad</td>\n",
       "      <td>0.0</td>\n",
       "      <td>2.0</td>\n",
       "      <td>1.0</td>\n",
       "      <td>2.0</td>\n",
       "      <td>0.0</td>\n",
       "      <td>2.0</td>\n",
       "    </tr>\n",
       "    <tr>\n",
       "      <th>4</th>\n",
       "      <td>24</td>\n",
       "      <td>furniture/equipment</td>\n",
       "      <td>2835</td>\n",
       "      <td>3</td>\n",
       "      <td>male single</td>\n",
       "      <td>none</td>\n",
       "      <td>4</td>\n",
       "      <td>life insurance</td>\n",
       "      <td>53</td>\n",
       "      <td>none</td>\n",
       "      <td>...</td>\n",
       "      <td>1</td>\n",
       "      <td>none</td>\n",
       "      <td>yes</td>\n",
       "      <td>good</td>\n",
       "      <td>3.0</td>\n",
       "      <td>3.0</td>\n",
       "      <td>3.0</td>\n",
       "      <td>4.0</td>\n",
       "      <td>2.0</td>\n",
       "      <td>2.0</td>\n",
       "    </tr>\n",
       "  </tbody>\n",
       "</table>\n",
       "<p>5 rows × 21 columns</p>\n",
       "</div>"
      ],
      "text/plain": [
       "   duration              purpose  credit_amount  installment_commitment  \\\n",
       "0         6             radio/tv           1169                       4   \n",
       "1        12            education           2096                       2   \n",
       "2        42  furniture/equipment           7882                       2   \n",
       "3        24              new car           4870                       3   \n",
       "4        24  furniture/equipment           2835                       3   \n",
       "\n",
       "  personal_status other_parties  residence_since property_magnitude  age  \\\n",
       "0     male single          none                4        real estate   67   \n",
       "1     male single          none                3        real estate   49   \n",
       "2     male single     guarantor                4     life insurance   45   \n",
       "3     male single          none                4  no known property   53   \n",
       "4     male single          none                4     life insurance   53   \n",
       "\n",
       "  other_payment_plans  ...  num_dependents  own_telephone foreign_worker  \\\n",
       "0                none  ...               1            yes            yes   \n",
       "1                none  ...               2           none            yes   \n",
       "2                none  ...               2           none            yes   \n",
       "3                none  ...               2           none            yes   \n",
       "4                none  ...               1           none            yes   \n",
       "\n",
       "  class checking_status  credit_history  savings_status  employment  housing  \\\n",
       "0  good             0.0             1.0             0.0         4.0      2.0   \n",
       "1  good             3.0             1.0             1.0         3.0      2.0   \n",
       "2  good             0.0             3.0             1.0         3.0      0.0   \n",
       "3   bad             0.0             2.0             1.0         2.0      0.0   \n",
       "4  good             3.0             3.0             3.0         4.0      2.0   \n",
       "\n",
       "   job  \n",
       "0  2.0  \n",
       "1  1.0  \n",
       "2  2.0  \n",
       "3  2.0  \n",
       "4  2.0  \n",
       "\n",
       "[5 rows x 21 columns]"
      ]
     },
     "execution_count": 24,
     "metadata": {},
     "output_type": "execute_result"
    }
   ],
   "source": [
    "data.drop(cate_featuresORD, axis=1, inplace=True)\n",
    "data_encoded = pd.concat((data, dataORD), axis=1)\n",
    "data_encoded.head()"
   ]
  },
  {
   "cell_type": "code",
   "execution_count": 25,
   "id": "2cadfbd3",
   "metadata": {},
   "outputs": [],
   "source": [
    "cate_featuresOHE = ['purpose', 'personal_status','other_parties', 'property_magnitude', 'other_payment_plans','own_telephone', 'foreign_worker']\n",
    "\n",
    "encod = OneHotEncoder(sparse_output=False,drop='if_binary')\n",
    "encoded_featuresOHE = encod.fit_transform(data[cate_featuresOHE])"
   ]
  },
  {
   "cell_type": "code",
   "execution_count": 26,
   "id": "0a9903cd",
   "metadata": {},
   "outputs": [
    {
     "data": {
      "text/html": [
       "<div>\n",
       "<style scoped>\n",
       "    .dataframe tbody tr th:only-of-type {\n",
       "        vertical-align: middle;\n",
       "    }\n",
       "\n",
       "    .dataframe tbody tr th {\n",
       "        vertical-align: top;\n",
       "    }\n",
       "\n",
       "    .dataframe thead th {\n",
       "        text-align: right;\n",
       "    }\n",
       "</style>\n",
       "<table border=\"1\" class=\"dataframe\">\n",
       "  <thead>\n",
       "    <tr style=\"text-align: right;\">\n",
       "      <th></th>\n",
       "      <th>purpose_business</th>\n",
       "      <th>purpose_domestic appliance</th>\n",
       "      <th>purpose_education</th>\n",
       "      <th>purpose_furniture/equipment</th>\n",
       "      <th>purpose_new car</th>\n",
       "      <th>purpose_other</th>\n",
       "      <th>purpose_radio/tv</th>\n",
       "      <th>purpose_repairs</th>\n",
       "      <th>purpose_retraining</th>\n",
       "      <th>purpose_unknown</th>\n",
       "      <th>...</th>\n",
       "      <th>other_payment_plans_stores</th>\n",
       "      <th>own_telephone_yes</th>\n",
       "      <th>foreign_worker_yes</th>\n",
       "      <th>purpose</th>\n",
       "      <th>personal_status</th>\n",
       "      <th>other_parties</th>\n",
       "      <th>property_magnitude</th>\n",
       "      <th>other_payment_plans</th>\n",
       "      <th>own_telephone</th>\n",
       "      <th>foreign_worker</th>\n",
       "    </tr>\n",
       "  </thead>\n",
       "  <tbody>\n",
       "    <tr>\n",
       "      <th>0</th>\n",
       "      <td>0.0</td>\n",
       "      <td>0.0</td>\n",
       "      <td>0.0</td>\n",
       "      <td>0.0</td>\n",
       "      <td>0.0</td>\n",
       "      <td>0.0</td>\n",
       "      <td>1.0</td>\n",
       "      <td>0.0</td>\n",
       "      <td>0.0</td>\n",
       "      <td>0.0</td>\n",
       "      <td>...</td>\n",
       "      <td>0.0</td>\n",
       "      <td>1.0</td>\n",
       "      <td>1.0</td>\n",
       "      <td>radio/tv</td>\n",
       "      <td>male single</td>\n",
       "      <td>none</td>\n",
       "      <td>real estate</td>\n",
       "      <td>none</td>\n",
       "      <td>yes</td>\n",
       "      <td>yes</td>\n",
       "    </tr>\n",
       "    <tr>\n",
       "      <th>1</th>\n",
       "      <td>0.0</td>\n",
       "      <td>0.0</td>\n",
       "      <td>1.0</td>\n",
       "      <td>0.0</td>\n",
       "      <td>0.0</td>\n",
       "      <td>0.0</td>\n",
       "      <td>0.0</td>\n",
       "      <td>0.0</td>\n",
       "      <td>0.0</td>\n",
       "      <td>0.0</td>\n",
       "      <td>...</td>\n",
       "      <td>0.0</td>\n",
       "      <td>0.0</td>\n",
       "      <td>1.0</td>\n",
       "      <td>education</td>\n",
       "      <td>male single</td>\n",
       "      <td>none</td>\n",
       "      <td>real estate</td>\n",
       "      <td>none</td>\n",
       "      <td>none</td>\n",
       "      <td>yes</td>\n",
       "    </tr>\n",
       "    <tr>\n",
       "      <th>2</th>\n",
       "      <td>0.0</td>\n",
       "      <td>0.0</td>\n",
       "      <td>0.0</td>\n",
       "      <td>1.0</td>\n",
       "      <td>0.0</td>\n",
       "      <td>0.0</td>\n",
       "      <td>0.0</td>\n",
       "      <td>0.0</td>\n",
       "      <td>0.0</td>\n",
       "      <td>0.0</td>\n",
       "      <td>...</td>\n",
       "      <td>0.0</td>\n",
       "      <td>0.0</td>\n",
       "      <td>1.0</td>\n",
       "      <td>furniture/equipment</td>\n",
       "      <td>male single</td>\n",
       "      <td>guarantor</td>\n",
       "      <td>life insurance</td>\n",
       "      <td>none</td>\n",
       "      <td>none</td>\n",
       "      <td>yes</td>\n",
       "    </tr>\n",
       "    <tr>\n",
       "      <th>3</th>\n",
       "      <td>0.0</td>\n",
       "      <td>0.0</td>\n",
       "      <td>0.0</td>\n",
       "      <td>0.0</td>\n",
       "      <td>1.0</td>\n",
       "      <td>0.0</td>\n",
       "      <td>0.0</td>\n",
       "      <td>0.0</td>\n",
       "      <td>0.0</td>\n",
       "      <td>0.0</td>\n",
       "      <td>...</td>\n",
       "      <td>0.0</td>\n",
       "      <td>0.0</td>\n",
       "      <td>1.0</td>\n",
       "      <td>new car</td>\n",
       "      <td>male single</td>\n",
       "      <td>none</td>\n",
       "      <td>no known property</td>\n",
       "      <td>none</td>\n",
       "      <td>none</td>\n",
       "      <td>yes</td>\n",
       "    </tr>\n",
       "    <tr>\n",
       "      <th>4</th>\n",
       "      <td>0.0</td>\n",
       "      <td>0.0</td>\n",
       "      <td>0.0</td>\n",
       "      <td>1.0</td>\n",
       "      <td>0.0</td>\n",
       "      <td>0.0</td>\n",
       "      <td>0.0</td>\n",
       "      <td>0.0</td>\n",
       "      <td>0.0</td>\n",
       "      <td>0.0</td>\n",
       "      <td>...</td>\n",
       "      <td>0.0</td>\n",
       "      <td>0.0</td>\n",
       "      <td>1.0</td>\n",
       "      <td>furniture/equipment</td>\n",
       "      <td>male single</td>\n",
       "      <td>none</td>\n",
       "      <td>life insurance</td>\n",
       "      <td>none</td>\n",
       "      <td>none</td>\n",
       "      <td>yes</td>\n",
       "    </tr>\n",
       "  </tbody>\n",
       "</table>\n",
       "<p>5 rows × 34 columns</p>\n",
       "</div>"
      ],
      "text/plain": [
       "   purpose_business  purpose_domestic appliance  purpose_education  \\\n",
       "0               0.0                         0.0                0.0   \n",
       "1               0.0                         0.0                1.0   \n",
       "2               0.0                         0.0                0.0   \n",
       "3               0.0                         0.0                0.0   \n",
       "4               0.0                         0.0                0.0   \n",
       "\n",
       "   purpose_furniture/equipment  purpose_new car  purpose_other  \\\n",
       "0                          0.0              0.0            0.0   \n",
       "1                          0.0              0.0            0.0   \n",
       "2                          1.0              0.0            0.0   \n",
       "3                          0.0              1.0            0.0   \n",
       "4                          1.0              0.0            0.0   \n",
       "\n",
       "   purpose_radio/tv  purpose_repairs  purpose_retraining  purpose_unknown  \\\n",
       "0               1.0              0.0                 0.0              0.0   \n",
       "1               0.0              0.0                 0.0              0.0   \n",
       "2               0.0              0.0                 0.0              0.0   \n",
       "3               0.0              0.0                 0.0              0.0   \n",
       "4               0.0              0.0                 0.0              0.0   \n",
       "\n",
       "   ...  other_payment_plans_stores  own_telephone_yes  foreign_worker_yes  \\\n",
       "0  ...                         0.0                1.0                 1.0   \n",
       "1  ...                         0.0                0.0                 1.0   \n",
       "2  ...                         0.0                0.0                 1.0   \n",
       "3  ...                         0.0                0.0                 1.0   \n",
       "4  ...                         0.0                0.0                 1.0   \n",
       "\n",
       "               purpose  personal_status  other_parties  property_magnitude  \\\n",
       "0             radio/tv      male single           none         real estate   \n",
       "1            education      male single           none         real estate   \n",
       "2  furniture/equipment      male single      guarantor      life insurance   \n",
       "3              new car      male single           none   no known property   \n",
       "4  furniture/equipment      male single           none      life insurance   \n",
       "\n",
       "   other_payment_plans  own_telephone  foreign_worker  \n",
       "0                 none            yes             yes  \n",
       "1                 none           none             yes  \n",
       "2                 none           none             yes  \n",
       "3                 none           none             yes  \n",
       "4                 none           none             yes  \n",
       "\n",
       "[5 rows x 34 columns]"
      ]
     },
     "execution_count": 26,
     "metadata": {},
     "output_type": "execute_result"
    }
   ],
   "source": [
    "dataOHE = pd.DataFrame(encoded_featuresOHE, columns= encod.get_feature_names_out())\n",
    "pd.concat((dataOHE, data[cate_featuresOHE]), axis= 1).head(5)"
   ]
  },
  {
   "cell_type": "code",
   "execution_count": 27,
   "id": "a7b91535",
   "metadata": {},
   "outputs": [
    {
     "data": {
      "text/html": [
       "<div>\n",
       "<style scoped>\n",
       "    .dataframe tbody tr th:only-of-type {\n",
       "        vertical-align: middle;\n",
       "    }\n",
       "\n",
       "    .dataframe tbody tr th {\n",
       "        vertical-align: top;\n",
       "    }\n",
       "\n",
       "    .dataframe thead th {\n",
       "        text-align: right;\n",
       "    }\n",
       "</style>\n",
       "<table border=\"1\" class=\"dataframe\">\n",
       "  <thead>\n",
       "    <tr style=\"text-align: right;\">\n",
       "      <th></th>\n",
       "      <th>duration</th>\n",
       "      <th>credit_amount</th>\n",
       "      <th>installment_commitment</th>\n",
       "      <th>residence_since</th>\n",
       "      <th>age</th>\n",
       "      <th>existing_credits</th>\n",
       "      <th>num_dependents</th>\n",
       "      <th>class</th>\n",
       "      <th>purpose_business</th>\n",
       "      <th>purpose_domestic appliance</th>\n",
       "      <th>...</th>\n",
       "      <th>other_parties_none</th>\n",
       "      <th>property_magnitude_car</th>\n",
       "      <th>property_magnitude_life insurance</th>\n",
       "      <th>property_magnitude_no known property</th>\n",
       "      <th>property_magnitude_real estate</th>\n",
       "      <th>other_payment_plans_bank</th>\n",
       "      <th>other_payment_plans_none</th>\n",
       "      <th>other_payment_plans_stores</th>\n",
       "      <th>own_telephone_yes</th>\n",
       "      <th>foreign_worker_yes</th>\n",
       "    </tr>\n",
       "  </thead>\n",
       "  <tbody>\n",
       "    <tr>\n",
       "      <th>0</th>\n",
       "      <td>6</td>\n",
       "      <td>1169</td>\n",
       "      <td>4</td>\n",
       "      <td>4</td>\n",
       "      <td>67</td>\n",
       "      <td>2</td>\n",
       "      <td>1</td>\n",
       "      <td>good</td>\n",
       "      <td>0.0</td>\n",
       "      <td>0.0</td>\n",
       "      <td>...</td>\n",
       "      <td>1.0</td>\n",
       "      <td>0.0</td>\n",
       "      <td>0.0</td>\n",
       "      <td>0.0</td>\n",
       "      <td>1.0</td>\n",
       "      <td>0.0</td>\n",
       "      <td>1.0</td>\n",
       "      <td>0.0</td>\n",
       "      <td>1.0</td>\n",
       "      <td>1.0</td>\n",
       "    </tr>\n",
       "    <tr>\n",
       "      <th>1</th>\n",
       "      <td>12</td>\n",
       "      <td>2096</td>\n",
       "      <td>2</td>\n",
       "      <td>3</td>\n",
       "      <td>49</td>\n",
       "      <td>1</td>\n",
       "      <td>2</td>\n",
       "      <td>good</td>\n",
       "      <td>0.0</td>\n",
       "      <td>0.0</td>\n",
       "      <td>...</td>\n",
       "      <td>1.0</td>\n",
       "      <td>0.0</td>\n",
       "      <td>0.0</td>\n",
       "      <td>0.0</td>\n",
       "      <td>1.0</td>\n",
       "      <td>0.0</td>\n",
       "      <td>1.0</td>\n",
       "      <td>0.0</td>\n",
       "      <td>0.0</td>\n",
       "      <td>1.0</td>\n",
       "    </tr>\n",
       "    <tr>\n",
       "      <th>2</th>\n",
       "      <td>42</td>\n",
       "      <td>7882</td>\n",
       "      <td>2</td>\n",
       "      <td>4</td>\n",
       "      <td>45</td>\n",
       "      <td>1</td>\n",
       "      <td>2</td>\n",
       "      <td>good</td>\n",
       "      <td>0.0</td>\n",
       "      <td>0.0</td>\n",
       "      <td>...</td>\n",
       "      <td>0.0</td>\n",
       "      <td>0.0</td>\n",
       "      <td>1.0</td>\n",
       "      <td>0.0</td>\n",
       "      <td>0.0</td>\n",
       "      <td>0.0</td>\n",
       "      <td>1.0</td>\n",
       "      <td>0.0</td>\n",
       "      <td>0.0</td>\n",
       "      <td>1.0</td>\n",
       "    </tr>\n",
       "    <tr>\n",
       "      <th>3</th>\n",
       "      <td>24</td>\n",
       "      <td>4870</td>\n",
       "      <td>3</td>\n",
       "      <td>4</td>\n",
       "      <td>53</td>\n",
       "      <td>2</td>\n",
       "      <td>2</td>\n",
       "      <td>bad</td>\n",
       "      <td>0.0</td>\n",
       "      <td>0.0</td>\n",
       "      <td>...</td>\n",
       "      <td>1.0</td>\n",
       "      <td>0.0</td>\n",
       "      <td>0.0</td>\n",
       "      <td>1.0</td>\n",
       "      <td>0.0</td>\n",
       "      <td>0.0</td>\n",
       "      <td>1.0</td>\n",
       "      <td>0.0</td>\n",
       "      <td>0.0</td>\n",
       "      <td>1.0</td>\n",
       "    </tr>\n",
       "    <tr>\n",
       "      <th>4</th>\n",
       "      <td>24</td>\n",
       "      <td>2835</td>\n",
       "      <td>3</td>\n",
       "      <td>4</td>\n",
       "      <td>53</td>\n",
       "      <td>1</td>\n",
       "      <td>1</td>\n",
       "      <td>good</td>\n",
       "      <td>0.0</td>\n",
       "      <td>0.0</td>\n",
       "      <td>...</td>\n",
       "      <td>1.0</td>\n",
       "      <td>0.0</td>\n",
       "      <td>1.0</td>\n",
       "      <td>0.0</td>\n",
       "      <td>0.0</td>\n",
       "      <td>0.0</td>\n",
       "      <td>1.0</td>\n",
       "      <td>0.0</td>\n",
       "      <td>0.0</td>\n",
       "      <td>1.0</td>\n",
       "    </tr>\n",
       "  </tbody>\n",
       "</table>\n",
       "<p>5 rows × 35 columns</p>\n",
       "</div>"
      ],
      "text/plain": [
       "   duration  credit_amount  installment_commitment  residence_since  age  \\\n",
       "0         6           1169                       4                4   67   \n",
       "1        12           2096                       2                3   49   \n",
       "2        42           7882                       2                4   45   \n",
       "3        24           4870                       3                4   53   \n",
       "4        24           2835                       3                4   53   \n",
       "\n",
       "   existing_credits  num_dependents class  purpose_business  \\\n",
       "0                 2               1  good               0.0   \n",
       "1                 1               2  good               0.0   \n",
       "2                 1               2  good               0.0   \n",
       "3                 2               2   bad               0.0   \n",
       "4                 1               1  good               0.0   \n",
       "\n",
       "   purpose_domestic appliance  ...  other_parties_none  \\\n",
       "0                         0.0  ...                 1.0   \n",
       "1                         0.0  ...                 1.0   \n",
       "2                         0.0  ...                 0.0   \n",
       "3                         0.0  ...                 1.0   \n",
       "4                         0.0  ...                 1.0   \n",
       "\n",
       "   property_magnitude_car  property_magnitude_life insurance  \\\n",
       "0                     0.0                                0.0   \n",
       "1                     0.0                                0.0   \n",
       "2                     0.0                                1.0   \n",
       "3                     0.0                                0.0   \n",
       "4                     0.0                                1.0   \n",
       "\n",
       "   property_magnitude_no known property  property_magnitude_real estate  \\\n",
       "0                                   0.0                             1.0   \n",
       "1                                   0.0                             1.0   \n",
       "2                                   0.0                             0.0   \n",
       "3                                   1.0                             0.0   \n",
       "4                                   0.0                             0.0   \n",
       "\n",
       "   other_payment_plans_bank  other_payment_plans_none  \\\n",
       "0                       0.0                       1.0   \n",
       "1                       0.0                       1.0   \n",
       "2                       0.0                       1.0   \n",
       "3                       0.0                       1.0   \n",
       "4                       0.0                       1.0   \n",
       "\n",
       "   other_payment_plans_stores  own_telephone_yes  foreign_worker_yes  \n",
       "0                         0.0                1.0                 1.0  \n",
       "1                         0.0                0.0                 1.0  \n",
       "2                         0.0                0.0                 1.0  \n",
       "3                         0.0                0.0                 1.0  \n",
       "4                         0.0                0.0                 1.0  \n",
       "\n",
       "[5 rows x 35 columns]"
      ]
     },
     "execution_count": 27,
     "metadata": {},
     "output_type": "execute_result"
    }
   ],
   "source": [
    "data.drop(cate_featuresOHE, axis=1, inplace=True)\n",
    "data_encoded = pd.concat((data, dataOHE), axis=1)\n",
    "data_encoded.head()"
   ]
  },
  {
   "cell_type": "code",
   "execution_count": 28,
   "id": "32c9a021",
   "metadata": {},
   "outputs": [
    {
     "data": {
      "text/html": [
       "<div>\n",
       "<style scoped>\n",
       "    .dataframe tbody tr th:only-of-type {\n",
       "        vertical-align: middle;\n",
       "    }\n",
       "\n",
       "    .dataframe tbody tr th {\n",
       "        vertical-align: top;\n",
       "    }\n",
       "\n",
       "    .dataframe thead th {\n",
       "        text-align: right;\n",
       "    }\n",
       "</style>\n",
       "<table border=\"1\" class=\"dataframe\">\n",
       "  <thead>\n",
       "    <tr style=\"text-align: right;\">\n",
       "      <th></th>\n",
       "      <th>duration</th>\n",
       "      <th>credit_amount</th>\n",
       "      <th>installment_commitment</th>\n",
       "      <th>residence_since</th>\n",
       "      <th>age</th>\n",
       "      <th>existing_credits</th>\n",
       "      <th>num_dependents</th>\n",
       "      <th>class</th>\n",
       "      <th>purpose_business</th>\n",
       "      <th>purpose_domestic appliance</th>\n",
       "      <th>...</th>\n",
       "      <th>other_parties_none</th>\n",
       "      <th>property_magnitude_car</th>\n",
       "      <th>property_magnitude_life insurance</th>\n",
       "      <th>property_magnitude_no known property</th>\n",
       "      <th>property_magnitude_real estate</th>\n",
       "      <th>other_payment_plans_bank</th>\n",
       "      <th>other_payment_plans_none</th>\n",
       "      <th>other_payment_plans_stores</th>\n",
       "      <th>own_telephone_yes</th>\n",
       "      <th>foreign_worker_yes</th>\n",
       "    </tr>\n",
       "  </thead>\n",
       "  <tbody>\n",
       "    <tr>\n",
       "      <th>0</th>\n",
       "      <td>6</td>\n",
       "      <td>1169</td>\n",
       "      <td>4</td>\n",
       "      <td>4</td>\n",
       "      <td>67</td>\n",
       "      <td>2</td>\n",
       "      <td>1</td>\n",
       "      <td>1</td>\n",
       "      <td>0.0</td>\n",
       "      <td>0.0</td>\n",
       "      <td>...</td>\n",
       "      <td>1.0</td>\n",
       "      <td>0.0</td>\n",
       "      <td>0.0</td>\n",
       "      <td>0.0</td>\n",
       "      <td>1.0</td>\n",
       "      <td>0.0</td>\n",
       "      <td>1.0</td>\n",
       "      <td>0.0</td>\n",
       "      <td>1.0</td>\n",
       "      <td>1.0</td>\n",
       "    </tr>\n",
       "    <tr>\n",
       "      <th>1</th>\n",
       "      <td>12</td>\n",
       "      <td>2096</td>\n",
       "      <td>2</td>\n",
       "      <td>3</td>\n",
       "      <td>49</td>\n",
       "      <td>1</td>\n",
       "      <td>2</td>\n",
       "      <td>1</td>\n",
       "      <td>0.0</td>\n",
       "      <td>0.0</td>\n",
       "      <td>...</td>\n",
       "      <td>1.0</td>\n",
       "      <td>0.0</td>\n",
       "      <td>0.0</td>\n",
       "      <td>0.0</td>\n",
       "      <td>1.0</td>\n",
       "      <td>0.0</td>\n",
       "      <td>1.0</td>\n",
       "      <td>0.0</td>\n",
       "      <td>0.0</td>\n",
       "      <td>1.0</td>\n",
       "    </tr>\n",
       "    <tr>\n",
       "      <th>2</th>\n",
       "      <td>42</td>\n",
       "      <td>7882</td>\n",
       "      <td>2</td>\n",
       "      <td>4</td>\n",
       "      <td>45</td>\n",
       "      <td>1</td>\n",
       "      <td>2</td>\n",
       "      <td>1</td>\n",
       "      <td>0.0</td>\n",
       "      <td>0.0</td>\n",
       "      <td>...</td>\n",
       "      <td>0.0</td>\n",
       "      <td>0.0</td>\n",
       "      <td>1.0</td>\n",
       "      <td>0.0</td>\n",
       "      <td>0.0</td>\n",
       "      <td>0.0</td>\n",
       "      <td>1.0</td>\n",
       "      <td>0.0</td>\n",
       "      <td>0.0</td>\n",
       "      <td>1.0</td>\n",
       "    </tr>\n",
       "    <tr>\n",
       "      <th>3</th>\n",
       "      <td>24</td>\n",
       "      <td>4870</td>\n",
       "      <td>3</td>\n",
       "      <td>4</td>\n",
       "      <td>53</td>\n",
       "      <td>2</td>\n",
       "      <td>2</td>\n",
       "      <td>0</td>\n",
       "      <td>0.0</td>\n",
       "      <td>0.0</td>\n",
       "      <td>...</td>\n",
       "      <td>1.0</td>\n",
       "      <td>0.0</td>\n",
       "      <td>0.0</td>\n",
       "      <td>1.0</td>\n",
       "      <td>0.0</td>\n",
       "      <td>0.0</td>\n",
       "      <td>1.0</td>\n",
       "      <td>0.0</td>\n",
       "      <td>0.0</td>\n",
       "      <td>1.0</td>\n",
       "    </tr>\n",
       "    <tr>\n",
       "      <th>4</th>\n",
       "      <td>24</td>\n",
       "      <td>2835</td>\n",
       "      <td>3</td>\n",
       "      <td>4</td>\n",
       "      <td>53</td>\n",
       "      <td>1</td>\n",
       "      <td>1</td>\n",
       "      <td>1</td>\n",
       "      <td>0.0</td>\n",
       "      <td>0.0</td>\n",
       "      <td>...</td>\n",
       "      <td>1.0</td>\n",
       "      <td>0.0</td>\n",
       "      <td>1.0</td>\n",
       "      <td>0.0</td>\n",
       "      <td>0.0</td>\n",
       "      <td>0.0</td>\n",
       "      <td>1.0</td>\n",
       "      <td>0.0</td>\n",
       "      <td>0.0</td>\n",
       "      <td>1.0</td>\n",
       "    </tr>\n",
       "  </tbody>\n",
       "</table>\n",
       "<p>5 rows × 35 columns</p>\n",
       "</div>"
      ],
      "text/plain": [
       "   duration  credit_amount  installment_commitment  residence_since  age  \\\n",
       "0         6           1169                       4                4   67   \n",
       "1        12           2096                       2                3   49   \n",
       "2        42           7882                       2                4   45   \n",
       "3        24           4870                       3                4   53   \n",
       "4        24           2835                       3                4   53   \n",
       "\n",
       "   existing_credits  num_dependents  class  purpose_business  \\\n",
       "0                 2               1      1               0.0   \n",
       "1                 1               2      1               0.0   \n",
       "2                 1               2      1               0.0   \n",
       "3                 2               2      0               0.0   \n",
       "4                 1               1      1               0.0   \n",
       "\n",
       "   purpose_domestic appliance  ...  other_parties_none  \\\n",
       "0                         0.0  ...                 1.0   \n",
       "1                         0.0  ...                 1.0   \n",
       "2                         0.0  ...                 0.0   \n",
       "3                         0.0  ...                 1.0   \n",
       "4                         0.0  ...                 1.0   \n",
       "\n",
       "   property_magnitude_car  property_magnitude_life insurance  \\\n",
       "0                     0.0                                0.0   \n",
       "1                     0.0                                0.0   \n",
       "2                     0.0                                1.0   \n",
       "3                     0.0                                0.0   \n",
       "4                     0.0                                1.0   \n",
       "\n",
       "   property_magnitude_no known property  property_magnitude_real estate  \\\n",
       "0                                   0.0                             1.0   \n",
       "1                                   0.0                             1.0   \n",
       "2                                   0.0                             0.0   \n",
       "3                                   1.0                             0.0   \n",
       "4                                   0.0                             0.0   \n",
       "\n",
       "   other_payment_plans_bank  other_payment_plans_none  \\\n",
       "0                       0.0                       1.0   \n",
       "1                       0.0                       1.0   \n",
       "2                       0.0                       1.0   \n",
       "3                       0.0                       1.0   \n",
       "4                       0.0                       1.0   \n",
       "\n",
       "   other_payment_plans_stores  own_telephone_yes  foreign_worker_yes  \n",
       "0                         0.0                1.0                 1.0  \n",
       "1                         0.0                0.0                 1.0  \n",
       "2                         0.0                0.0                 1.0  \n",
       "3                         0.0                0.0                 1.0  \n",
       "4                         0.0                0.0                 1.0  \n",
       "\n",
       "[5 rows x 35 columns]"
      ]
     },
     "execution_count": 28,
     "metadata": {},
     "output_type": "execute_result"
    }
   ],
   "source": [
    "label_encode = LabelEncoder()\n",
    "data_encoded['class'] = label_encode.fit_transform(data_encoded['class'])\n",
    "data_encoded.head()"
   ]
  },
  {
   "cell_type": "code",
   "execution_count": 29,
   "id": "8d0ee7d5",
   "metadata": {},
   "outputs": [
    {
     "name": "stdout",
     "output_type": "stream",
     "text": [
      "<class 'pandas.core.frame.DataFrame'>\n",
      "RangeIndex: 884 entries, 0 to 883\n",
      "Data columns (total 35 columns):\n",
      " #   Column                                Non-Null Count  Dtype  \n",
      "---  ------                                --------------  -----  \n",
      " 0   duration                              884 non-null    int64  \n",
      " 1   credit_amount                         884 non-null    int64  \n",
      " 2   installment_commitment                884 non-null    int64  \n",
      " 3   residence_since                       884 non-null    int64  \n",
      " 4   age                                   884 non-null    int64  \n",
      " 5   existing_credits                      884 non-null    int64  \n",
      " 6   num_dependents                        884 non-null    int64  \n",
      " 7   class                                 884 non-null    int64  \n",
      " 8   purpose_business                      884 non-null    float64\n",
      " 9   purpose_domestic appliance            884 non-null    float64\n",
      " 10  purpose_education                     884 non-null    float64\n",
      " 11  purpose_furniture/equipment           884 non-null    float64\n",
      " 12  purpose_new car                       884 non-null    float64\n",
      " 13  purpose_other                         884 non-null    float64\n",
      " 14  purpose_radio/tv                      884 non-null    float64\n",
      " 15  purpose_repairs                       884 non-null    float64\n",
      " 16  purpose_retraining                    884 non-null    float64\n",
      " 17  purpose_unknown                       884 non-null    float64\n",
      " 18  purpose_used car                      884 non-null    float64\n",
      " 19  personal_status_female div/dep/mar    884 non-null    float64\n",
      " 20  personal_status_male div/sep          884 non-null    float64\n",
      " 21  personal_status_male mar/wid          884 non-null    float64\n",
      " 22  personal_status_male single           884 non-null    float64\n",
      " 23  other_parties_co applicant            884 non-null    float64\n",
      " 24  other_parties_guarantor               884 non-null    float64\n",
      " 25  other_parties_none                    884 non-null    float64\n",
      " 26  property_magnitude_car                884 non-null    float64\n",
      " 27  property_magnitude_life insurance     884 non-null    float64\n",
      " 28  property_magnitude_no known property  884 non-null    float64\n",
      " 29  property_magnitude_real estate        884 non-null    float64\n",
      " 30  other_payment_plans_bank              884 non-null    float64\n",
      " 31  other_payment_plans_none              884 non-null    float64\n",
      " 32  other_payment_plans_stores            884 non-null    float64\n",
      " 33  own_telephone_yes                     884 non-null    float64\n",
      " 34  foreign_worker_yes                    884 non-null    float64\n",
      "dtypes: float64(27), int64(8)\n",
      "memory usage: 241.8 KB\n"
     ]
    }
   ],
   "source": [
    "data_encoded.info()"
   ]
  },
  {
   "cell_type": "markdown",
   "id": "7bd22270",
   "metadata": {},
   "source": [
    "##  Class Imbalance\n",
    "\n",
    "- Checked the balance between classes in the target variable (class).\n",
    "- **Visualization:** Created a bar plot to show the distribution of \"good\" vs \"bad\" classes.\n",
    "- applied a strategy to handle it.\n",
    "- **Visualization  (after balancing):** Showed the updated class distribution with another bar plot."
   ]
  },
  {
   "cell_type": "code",
   "execution_count": 30,
   "id": "23ee8783",
   "metadata": {},
   "outputs": [
    {
     "data": {
      "image/png": "[encoded data removed]",
      "text/plain": [
       "<Figure size 640x480 with 1 Axes>"
      ]
     },
     "metadata": {},
     "output_type": "display_data"
    }
   ],
   "source": [
    "sns.countplot(x = 'class', data = data_encoded)\n",
    "plt.show()"
   ]
  },
  {
   "cell_type": "code",
   "execution_count": 31,
   "id": "fdd3d259",
   "metadata": {},
   "outputs": [],
   "source": [
    "Features = data_encoded.drop(\"class\", axis=1)\n",
    "target = data_encoded[\"class\"]"
   ]
  },
  {
   "cell_type": "code",
   "execution_count": 32,
   "id": "c616975d",
   "metadata": {},
   "outputs": [],
   "source": [
    "OS = SMOTE()\n",
    "Features_rsbld, target_rsbld = OS.fit_resample(Features, target)"
   ]
  },
  {
   "cell_type": "code",
   "execution_count": 33,
   "id": "5c23532b",
   "metadata": {},
   "outputs": [
    {
     "data": {
      "image/png": "[encoded data removed]",
      "text/plain": [
       "<Figure size 640x480 with 1 Axes>"
      ]
     },
     "metadata": {},
     "output_type": "display_data"
    }
   ],
   "source": [
    "target_rsbld.value_counts().sort_index().plot(kind='bar')\n",
    "plt.show()"
   ]
  },
  {
   "cell_type": "markdown",
   "id": "da7835d6",
   "metadata": {},
   "source": [
    "## Splitting the Data\n",
    "\n",
    "- Splitted the data into training and testing sets."
   ]
  },
  {
   "cell_type": "code",
   "execution_count": 34,
   "id": "3f1b5b17",
   "metadata": {},
   "outputs": [
    {
     "name": "stdout",
     "output_type": "stream",
     "text": [
      "(1041, 34)\n",
      "(261, 34)\n",
      "(1041,)\n",
      "(261,)\n",
      "class\n",
      "1    0.50048\n",
      "0    0.49952\n",
      "Name: proportion, dtype: float64\n",
      "class\n",
      "0    0.501916\n",
      "1    0.498084\n",
      "Name: proportion, dtype: float64\n"
     ]
    }
   ],
   "source": [
    "X_train, X_test, y_train, y_test = train_test_split(Features_rsbld, target_rsbld, test_size=0.2, stratify=target_rsbld, random_state=42)\n",
    "print(X_train.shape)\n",
    "print(X_test.shape)\n",
    "print(y_train.shape)\n",
    "print(y_test.shape)\n",
    "print(y_train.value_counts(normalize=True))\n",
    "print(y_test.value_counts(normalize=True))"
   ]
  },
  {
   "cell_type": "markdown",
   "id": "b8dc2483",
   "metadata": {},
   "source": [
    "## Scalling\n",
    "- Applied feature scaling Min-Max scaling to numerical features."
   ]
  },
  {
   "cell_type": "code",
   "execution_count": 40,
   "id": "ef62ae31",
   "metadata": {},
   "outputs": [],
   "source": [
    "X_train.reset_index(drop=True, inplace=True)\n",
    "X_test.reset_index(drop=True, inplace=True)\n",
    "y_train.reset_index(drop=True, inplace=True)\n",
    "y_test.reset_index(drop=True, inplace=True)"
   ]
  },
  {
   "cell_type": "code",
   "execution_count": 41,
   "id": "9d27117f",
   "metadata": {},
   "outputs": [
    {
     "data": {
      "text/html": [
       "<div>\n",
       "<style scoped>\n",
       "    .dataframe tbody tr th:only-of-type {\n",
       "        vertical-align: middle;\n",
       "    }\n",
       "\n",
       "    .dataframe tbody tr th {\n",
       "        vertical-align: top;\n",
       "    }\n",
       "\n",
       "    .dataframe thead th {\n",
       "        text-align: right;\n",
       "    }\n",
       "</style>\n",
       "<table border=\"1\" class=\"dataframe\">\n",
       "  <thead>\n",
       "    <tr style=\"text-align: right;\">\n",
       "      <th></th>\n",
       "      <th>duration</th>\n",
       "      <th>credit_amount</th>\n",
       "      <th>age</th>\n",
       "    </tr>\n",
       "  </thead>\n",
       "  <tbody>\n",
       "    <tr>\n",
       "      <th>0</th>\n",
       "      <td>6</td>\n",
       "      <td>1169</td>\n",
       "      <td>67</td>\n",
       "    </tr>\n",
       "    <tr>\n",
       "      <th>1</th>\n",
       "      <td>12</td>\n",
       "      <td>2096</td>\n",
       "      <td>49</td>\n",
       "    </tr>\n",
       "    <tr>\n",
       "      <th>2</th>\n",
       "      <td>42</td>\n",
       "      <td>7882</td>\n",
       "      <td>45</td>\n",
       "    </tr>\n",
       "    <tr>\n",
       "      <th>3</th>\n",
       "      <td>24</td>\n",
       "      <td>4870</td>\n",
       "      <td>53</td>\n",
       "    </tr>\n",
       "    <tr>\n",
       "      <th>4</th>\n",
       "      <td>24</td>\n",
       "      <td>2835</td>\n",
       "      <td>53</td>\n",
       "    </tr>\n",
       "  </tbody>\n",
       "</table>\n",
       "</div>"
      ],
      "text/plain": [
       "   duration  credit_amount  age\n",
       "0         6           1169   67\n",
       "1        12           2096   49\n",
       "2        42           7882   45\n",
       "3        24           4870   53\n",
       "4        24           2835   53"
      ]
     },
     "execution_count": 41,
     "metadata": {},
     "output_type": "execute_result"
    }
   ],
   "source": [
    "data_encoded[['duration', 'credit_amount', 'age']].head()"
   ]
  },
  {
   "cell_type": "code",
   "execution_count": 42,
   "id": "429f753d",
   "metadata": {},
   "outputs": [],
   "source": [
    "num_features = ['duration', 'credit_amount', 'age']\n",
    "minmax_scaler = MinMaxScaler() \n",
    "\n",
    "X_train[num_features] = minmax_scaler.fit_transform(X_train[num_features])\n",
    "\n",
    "X_test[num_features] = minmax_scaler.transform(X_test[num_features])\n"
   ]
  },
  {
   "cell_type": "code",
   "execution_count": 38,
   "id": "fe6423be",
   "metadata": {},
   "outputs": [
    {
     "data": {
      "text/html": [
       "<div>\n",
       "<style scoped>\n",
       "    .dataframe tbody tr th:only-of-type {\n",
       "        vertical-align: middle;\n",
       "    }\n",
       "\n",
       "    .dataframe tbody tr th {\n",
       "        vertical-align: top;\n",
       "    }\n",
       "\n",
       "    .dataframe thead th {\n",
       "        text-align: right;\n",
       "    }\n",
       "</style>\n",
       "<table border=\"1\" class=\"dataframe\">\n",
       "  <thead>\n",
       "    <tr style=\"text-align: right;\">\n",
       "      <th></th>\n",
       "      <th>duration</th>\n",
       "      <th>credit_amount</th>\n",
       "      <th>age</th>\n",
       "    </tr>\n",
       "  </thead>\n",
       "  <tbody>\n",
       "    <tr>\n",
       "      <th>0</th>\n",
       "      <td>0.210526</td>\n",
       "      <td>0.184355</td>\n",
       "      <td>0.142857</td>\n",
       "    </tr>\n",
       "    <tr>\n",
       "      <th>1</th>\n",
       "      <td>0.842105</td>\n",
       "      <td>0.271619</td>\n",
       "      <td>0.089286</td>\n",
       "    </tr>\n",
       "    <tr>\n",
       "      <th>2</th>\n",
       "      <td>0.684211</td>\n",
       "      <td>0.947982</td>\n",
       "      <td>0.607143</td>\n",
       "    </tr>\n",
       "    <tr>\n",
       "      <th>3</th>\n",
       "      <td>0.210526</td>\n",
       "      <td>0.136137</td>\n",
       "      <td>0.035714</td>\n",
       "    </tr>\n",
       "    <tr>\n",
       "      <th>4</th>\n",
       "      <td>0.184211</td>\n",
       "      <td>0.148323</td>\n",
       "      <td>0.107143</td>\n",
       "    </tr>\n",
       "  </tbody>\n",
       "</table>\n",
       "</div>"
      ],
      "text/plain": [
       "   duration  credit_amount       age\n",
       "0  0.210526       0.184355  0.142857\n",
       "1  0.842105       0.271619  0.089286\n",
       "2  0.684211       0.947982  0.607143\n",
       "3  0.210526       0.136137  0.035714\n",
       "4  0.184211       0.148323  0.107143"
      ]
     },
     "execution_count": 38,
     "metadata": {},
     "output_type": "execute_result"
    }
   ],
   "source": [
    "X_train[['duration', 'credit_amount', 'age']].head()"
   ]
  },
  {
   "cell_type": "code",
   "execution_count": 39,
   "id": "01cf16d5",
   "metadata": {},
   "outputs": [
    {
     "data": {
      "text/html": [
       "<div>\n",
       "<style scoped>\n",
       "    .dataframe tbody tr th:only-of-type {\n",
       "        vertical-align: middle;\n",
       "    }\n",
       "\n",
       "    .dataframe tbody tr th {\n",
       "        vertical-align: top;\n",
       "    }\n",
       "\n",
       "    .dataframe thead th {\n",
       "        text-align: right;\n",
       "    }\n",
       "</style>\n",
       "<table border=\"1\" class=\"dataframe\">\n",
       "  <thead>\n",
       "    <tr style=\"text-align: right;\">\n",
       "      <th></th>\n",
       "      <th>duration</th>\n",
       "      <th>credit_amount</th>\n",
       "      <th>installment_commitment</th>\n",
       "      <th>residence_since</th>\n",
       "      <th>age</th>\n",
       "      <th>existing_credits</th>\n",
       "      <th>num_dependents</th>\n",
       "      <th>purpose_business</th>\n",
       "      <th>purpose_domestic appliance</th>\n",
       "      <th>purpose_education</th>\n",
       "      <th>...</th>\n",
       "      <th>property_magnitude_car</th>\n",
       "      <th>property_magnitude_life insurance</th>\n",
       "      <th>property_magnitude_no known property</th>\n",
       "      <th>property_magnitude_real estate</th>\n",
       "      <th>other_payment_plans_bank</th>\n",
       "      <th>other_payment_plans_none</th>\n",
       "      <th>other_payment_plans_stores</th>\n",
       "      <th>own_telephone_yes</th>\n",
       "      <th>foreign_worker_yes</th>\n",
       "      <th>class</th>\n",
       "    </tr>\n",
       "  </thead>\n",
       "  <tbody>\n",
       "    <tr>\n",
       "      <th>0</th>\n",
       "      <td>0.210526</td>\n",
       "      <td>0.184355</td>\n",
       "      <td>2</td>\n",
       "      <td>2</td>\n",
       "      <td>0.142857</td>\n",
       "      <td>1</td>\n",
       "      <td>1</td>\n",
       "      <td>0.0</td>\n",
       "      <td>0.0</td>\n",
       "      <td>0.0</td>\n",
       "      <td>...</td>\n",
       "      <td>0.0</td>\n",
       "      <td>0.0</td>\n",
       "      <td>0.000000</td>\n",
       "      <td>1.000000</td>\n",
       "      <td>0.0</td>\n",
       "      <td>1.0</td>\n",
       "      <td>0.0</td>\n",
       "      <td>0.0</td>\n",
       "      <td>1.0</td>\n",
       "      <td>1.0</td>\n",
       "    </tr>\n",
       "    <tr>\n",
       "      <th>1</th>\n",
       "      <td>0.842105</td>\n",
       "      <td>0.271619</td>\n",
       "      <td>4</td>\n",
       "      <td>4</td>\n",
       "      <td>0.089286</td>\n",
       "      <td>1</td>\n",
       "      <td>1</td>\n",
       "      <td>0.0</td>\n",
       "      <td>0.0</td>\n",
       "      <td>0.0</td>\n",
       "      <td>...</td>\n",
       "      <td>0.0</td>\n",
       "      <td>1.0</td>\n",
       "      <td>0.000000</td>\n",
       "      <td>0.000000</td>\n",
       "      <td>0.0</td>\n",
       "      <td>1.0</td>\n",
       "      <td>0.0</td>\n",
       "      <td>0.0</td>\n",
       "      <td>1.0</td>\n",
       "      <td>0.0</td>\n",
       "    </tr>\n",
       "    <tr>\n",
       "      <th>2</th>\n",
       "      <td>0.684211</td>\n",
       "      <td>0.947982</td>\n",
       "      <td>4</td>\n",
       "      <td>1</td>\n",
       "      <td>0.607143</td>\n",
       "      <td>1</td>\n",
       "      <td>1</td>\n",
       "      <td>0.0</td>\n",
       "      <td>0.0</td>\n",
       "      <td>0.0</td>\n",
       "      <td>...</td>\n",
       "      <td>1.0</td>\n",
       "      <td>0.0</td>\n",
       "      <td>0.000000</td>\n",
       "      <td>0.000000</td>\n",
       "      <td>0.0</td>\n",
       "      <td>1.0</td>\n",
       "      <td>0.0</td>\n",
       "      <td>0.0</td>\n",
       "      <td>1.0</td>\n",
       "      <td>1.0</td>\n",
       "    </tr>\n",
       "    <tr>\n",
       "      <th>3</th>\n",
       "      <td>0.210526</td>\n",
       "      <td>0.136137</td>\n",
       "      <td>4</td>\n",
       "      <td>1</td>\n",
       "      <td>0.035714</td>\n",
       "      <td>1</td>\n",
       "      <td>1</td>\n",
       "      <td>0.0</td>\n",
       "      <td>0.0</td>\n",
       "      <td>0.0</td>\n",
       "      <td>...</td>\n",
       "      <td>0.0</td>\n",
       "      <td>0.0</td>\n",
       "      <td>0.880199</td>\n",
       "      <td>0.119801</td>\n",
       "      <td>0.0</td>\n",
       "      <td>1.0</td>\n",
       "      <td>0.0</td>\n",
       "      <td>0.0</td>\n",
       "      <td>1.0</td>\n",
       "      <td>0.0</td>\n",
       "    </tr>\n",
       "    <tr>\n",
       "      <th>4</th>\n",
       "      <td>0.184211</td>\n",
       "      <td>0.148323</td>\n",
       "      <td>2</td>\n",
       "      <td>2</td>\n",
       "      <td>0.107143</td>\n",
       "      <td>1</td>\n",
       "      <td>1</td>\n",
       "      <td>0.0</td>\n",
       "      <td>0.0</td>\n",
       "      <td>0.0</td>\n",
       "      <td>...</td>\n",
       "      <td>0.0</td>\n",
       "      <td>0.0</td>\n",
       "      <td>1.000000</td>\n",
       "      <td>0.000000</td>\n",
       "      <td>0.0</td>\n",
       "      <td>1.0</td>\n",
       "      <td>0.0</td>\n",
       "      <td>1.0</td>\n",
       "      <td>1.0</td>\n",
       "      <td>1.0</td>\n",
       "    </tr>\n",
       "  </tbody>\n",
       "</table>\n",
       "<p>5 rows × 70 columns</p>\n",
       "</div>"
      ],
      "text/plain": [
       "   duration  credit_amount  installment_commitment  residence_since       age  \\\n",
       "0  0.210526       0.184355                       2                2  0.142857   \n",
       "1  0.842105       0.271619                       4                4  0.089286   \n",
       "2  0.684211       0.947982                       4                1  0.607143   \n",
       "3  0.210526       0.136137                       4                1  0.035714   \n",
       "4  0.184211       0.148323                       2                2  0.107143   \n",
       "\n",
       "   existing_credits  num_dependents  purpose_business  \\\n",
       "0                 1               1               0.0   \n",
       "1                 1               1               0.0   \n",
       "2                 1               1               0.0   \n",
       "3                 1               1               0.0   \n",
       "4                 1               1               0.0   \n",
       "\n",
       "   purpose_domestic appliance  purpose_education  ...  property_magnitude_car  \\\n",
       "0                         0.0                0.0  ...                     0.0   \n",
       "1                         0.0                0.0  ...                     0.0   \n",
       "2                         0.0                0.0  ...                     1.0   \n",
       "3                         0.0                0.0  ...                     0.0   \n",
       "4                         0.0                0.0  ...                     0.0   \n",
       "\n",
       "   property_magnitude_life insurance  property_magnitude_no known property  \\\n",
       "0                                0.0                              0.000000   \n",
       "1                                1.0                              0.000000   \n",
       "2                                0.0                              0.000000   \n",
       "3                                0.0                              0.880199   \n",
       "4                                0.0                              1.000000   \n",
       "\n",
       "   property_magnitude_real estate  other_payment_plans_bank  \\\n",
       "0                        1.000000                       0.0   \n",
       "1                        0.000000                       0.0   \n",
       "2                        0.000000                       0.0   \n",
       "3                        0.119801                       0.0   \n",
       "4                        0.000000                       0.0   \n",
       "\n",
       "   other_payment_plans_none  other_payment_plans_stores  own_telephone_yes  \\\n",
       "0                       1.0                         0.0                0.0   \n",
       "1                       1.0                         0.0                0.0   \n",
       "2                       1.0                         0.0                0.0   \n",
       "3                       1.0                         0.0                0.0   \n",
       "4                       1.0                         0.0                1.0   \n",
       "\n",
       "   foreign_worker_yes  class  \n",
       "0                 1.0    1.0  \n",
       "1                 1.0    0.0  \n",
       "2                 1.0    1.0  \n",
       "3                 1.0    0.0  \n",
       "4                 1.0    1.0  \n",
       "\n",
       "[5 rows x 70 columns]"
      ]
     },
     "execution_count": 39,
     "metadata": {},
     "output_type": "execute_result"
    }
   ],
   "source": [
    "final_data = pd.concat([X_train, y_train,X_test,y_test], axis=1)\n",
    "final_data.head()"
   ]
  }
 ],
 "metadata": {
  "kernelspec": {
   "display_name": "Python 3",
   "language": "python",
   "name": "python3"
  },
  "language_info": {
   "codemirror_mode": {
    "name": "ipython",
    "version": 3
   },
   "file_extension": ".py",
   "mimetype": "text/x-python",
   "name": "python",
   "nbconvert_exporter": "python",
   "pygments_lexer": "ipython3",
   "version": "3.12.3"
  }
 },
 "nbformat": 4,
 "nbformat_minor": 5
}
